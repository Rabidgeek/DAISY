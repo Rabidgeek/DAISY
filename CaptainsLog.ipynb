{
 "cells": [
  {
   "cell_type": "code",
   "execution_count": null,
   "id": "d82c66fc",
   "metadata": {},
   "outputs": [],
   "source": [
    "# Written by g33k\n",
    "import cv2\n",
    "import time\n",
    "\n",
    "# Assigning filename with date\n",
    "date = time.strftime(\"%d%B%Y-%H%M\")\n",
    "frame_date = time.strftime(\"%d %B %Y\")\n",
    "\n",
    "# Capturing Video from Webcam\n",
    "vid_capture = cv2.VideoCapture(0)\n",
    "vid_cod = cv2.VideoWriter_fourcc(*'MP4V')\n",
    "output = cv2.VideoWriter(\"CapLog/\" + date + \".mp4\", vid_cod, 20.0, (640, 480))\n",
    "\n",
    "while(True):\n",
    "    # Capture each frame of the video\n",
    "    ret, frame = vid_capture.read()\n",
    "    cv2.imshow(\"Captain's Log, \" + frame_date, frame)\n",
    "    output.write(frame)\n",
    "    # Close and break the loop after pressing \"q\" key\n",
    "    if cv2.waitKey(10) & 0xFF == ord('q'):\n",
    "        break\n",
    "# Close the webcam\n",
    "vid_capture.release()\n",
    "# Close the file\n",
    "output.release()\n",
    "# Close window and deallocate memory usage\n",
    "cv2.destroyAllWindows()\n"
   ]
  }
 ],
 "metadata": {
  "kernelspec": {
   "display_name": "Python 3 (ipykernel)",
   "language": "python",
   "name": "python3"
  },
  "language_info": {
   "codemirror_mode": {
    "name": "ipython",
    "version": 3
   },
   "file_extension": ".py",
   "mimetype": "text/x-python",
   "name": "python",
   "nbconvert_exporter": "python",
   "pygments_lexer": "ipython3",
   "version": "3.8.10"
  }
 },
 "nbformat": 4,
 "nbformat_minor": 5
}
