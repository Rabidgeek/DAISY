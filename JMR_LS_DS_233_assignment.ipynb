{
  "cells": [
    {
      "cell_type": "markdown",
      "metadata": {
        "id": "view-in-github",
        "colab_type": "text"
      },
      "source": [
        "<a href=\"https://colab.research.google.com/github/Rabidgeek/DAISY/blob/main/JMR_LS_DS_233_assignment.ipynb\" target=\"_parent\"><img src=\"https://colab.research.google.com/assets/colab-badge.svg\" alt=\"Open In Colab\"/></a>"
      ]
    },
    {
      "cell_type": "markdown",
      "metadata": {
        "id": "nCc3XZEyG3XV"
      },
      "source": [
        "BloomTech Data Science\n",
        "\n",
        "*Unit 2, Sprint 3, Module 3*\n",
        "\n",
        "---\n",
        "\n",
        "\n",
        "# Permutation & Boosting\n",
        "\n",
        "You will use your portfolio project dataset for all assignments this sprint.\n",
        "\n",
        "## Assignment\n",
        "\n",
        "Complete these tasks for your project, and document your work.\n",
        "\n",
        "- [ ] If you haven't completed assignment #1, please do so first.\n",
        "- [ ] Continue to clean and explore your data. Make exploratory visualizations.\n",
        "- [ ] Fit a model. Does it beat your baseline? \n",
        "- [ ] Try xgboost.\n",
        "- [ ] Get your model's permutation importances.\n",
        "\n",
        "You should try to complete an initial model today, because the rest of the week, we're making model interpretation visualizations.\n",
        "\n",
        "But, if you aren't ready to try xgboost and permutation importances with your dataset today, that's okay. You can practice with another dataset instead. You may choose any dataset you've worked with previously.\n",
        "\n",
        "The data subdirectory includes the Titanic dataset for classification and the NYC apartments dataset for regression. You may want to choose one of these datasets, because example solutions will be available for each.\n",
        "\n",
        "\n",
        "## Reading\n",
        "\n",
        "Top recommendations in _**bold italic:**_\n",
        "\n",
        "#### Permutation Importances\n",
        "- _**[Kaggle / Dan Becker: Machine Learning Explainability](https://www.kaggle.com/dansbecker/permutation-importance)**_\n",
        "- [Christoph Molnar: Interpretable Machine Learning](https://christophm.github.io/interpretable-ml-book/feature-importance.html)\n",
        "\n",
        "#### (Default) Feature Importances\n",
        "  - [Ando Saabas: Selecting good features, Part 3, Random Forests](https://blog.datadive.net/selecting-good-features-part-iii-random-forests/)\n",
        "  - [Terence Parr, et al: Beware Default Random Forest Importances](https://explained.ai/rf-importance/index.html)\n",
        "\n",
        "#### Gradient Boosting\n",
        "  - [A Gentle Introduction to the Gradient Boosting Algorithm for Machine Learning](https://machinelearningmastery.com/gentle-introduction-gradient-boosting-algorithm-machine-learning/)\n",
        "  - [An Introduction to Statistical Learning](http://www-bcf.usc.edu/~gareth/ISL/ISLR%20Seventh%20Printing.pdf), Chapter 8\n",
        "  - _**[Gradient Boosting Explained](https://www.gormanalysis.com/blog/gradient-boosting-explained/)**_ — Ben Gorman\n",
        "  - [Gradient Boosting Explained](http://arogozhnikov.github.io/2016/06/24/gradient_boosting_explained.html) — Alex Rogozhnikov\n",
        "  - [How to explain gradient boosting](https://explained.ai/gradient-boosting/) — Terence Parr & Jeremy Howard"
      ]
    },
    {
      "cell_type": "markdown",
      "source": [
        "## Initial Setup:"
      ],
      "metadata": {
        "id": "fB-Mu3-eUAyD"
      }
    },
    {
      "cell_type": "code",
      "execution_count": 1,
      "metadata": {
        "id": "l0CbeGkix17G",
        "colab": {
          "base_uri": "https://localhost:8080/"
        },
        "outputId": "e60644a6-7816-49d0-ad0d-6ad9e3528efd"
      },
      "outputs": [
        {
          "output_type": "stream",
          "name": "stdout",
          "text": [
            "Drive already mounted at /content/gdrive/; to attempt to forcibly remount, call drive.mount(\"/content/gdrive/\", force_remount=True).\n",
            "/content/gdrive/MyDrive/Colab Notebooks/BloomTech/KaggleChallenge/ethereum\n",
            "eth_historical.csv\n"
          ]
        }
      ],
      "source": [
        "# Set up Colab and Google Drive\n",
        "from google.colab import drive\n",
        "drive.mount('/content/gdrive/')\n",
        "\n",
        "%cd /content/gdrive/MyDrive/Colab Notebooks/BloomTech/KaggleChallenge/ethereum/\n",
        "!ls"
      ]
    },
    {
      "cell_type": "code",
      "source": [
        "# Import Dependencies\n",
        "import pandas as pd\n",
        "import numpy as np\n",
        "import matplotlib.pyplot as plt\n",
        "\n",
        "from datetime import datetime\n",
        "\n",
        "import plotly.graph_objects as go\n",
        "\n",
        "from sklearn import preprocessing, decomposition\n",
        "from sklearn.preprocessing import StandardScaler\n",
        "from sklearn.linear_model import LinearRegression, Ridge\n",
        "from sklearn.model_selection import train_test_split, GridSearchCV, RandomizedSearchCV\n",
        "from sklearn.pipeline import make_pipeline\n",
        "from sklearn.ensemble import GradientBoostingRegressor\n",
        "from sklearn.metrics import mean_absolute_error, mean_squared_error\n",
        "from xgboost import XGBRegressor"
      ],
      "metadata": {
        "id": "2kmRzUGSolTe"
      },
      "execution_count": 157,
      "outputs": []
    },
    {
      "cell_type": "markdown",
      "source": [
        "## Wrangling Data"
      ],
      "metadata": {
        "id": "W0VjXNYFUFE3"
      }
    },
    {
      "cell_type": "code",
      "source": [
        "# Wrangle Data\n",
        "def wrangle(data):\n",
        "  df = pd.read_csv(data,\n",
        "                   parse_dates=['Date'],\n",
        "                   index_col=['Date'])\n",
        "  df.columns = [x.lower() for x in df.columns]\n",
        "  \n",
        "  # Engineer Features\n",
        "  #df['adj open'] = df['open']\n",
        "  #df['delta'] = round(((df['close'] - df['open']) / df['close']) * 100,2)\n",
        "  \n",
        "\n",
        "  # Drop open and close columns to avoid data leakage\n",
        "  #df.drop(columns=['open', 'close'], inplace=True)\n",
        "\n",
        "  # Drop NaN\n",
        "  df.dropna(inplace=True)\n",
        "\n",
        "  return df\n",
        "\n",
        "data = \"/content/gdrive/MyDrive/Colab Notebooks/BloomTech/KaggleChallenge/ethereum/eth_historical.csv\""
      ],
      "metadata": {
        "id": "kORQ6cdqolPN"
      },
      "execution_count": 3,
      "outputs": []
    },
    {
      "cell_type": "code",
      "source": [
        "eth = wrangle(data)\n",
        "eth.head()"
      ],
      "metadata": {
        "colab": {
          "base_uri": "https://localhost:8080/",
          "height": 237
        },
        "id": "w750_k9ColIa",
        "outputId": "a2fa555b-647d-4604-84cd-3693a5c02a7e"
      },
      "execution_count": 4,
      "outputs": [
        {
          "output_type": "execute_result",
          "data": {
            "text/plain": [
              "                   open         high          low        close       volume  \\\n",
              "Date                                                                          \n",
              "2022-09-16  1471.928345  1480.564209  1415.581299  1432.447754  16764804299   \n",
              "2022-09-17  1432.876465  1473.060425  1415.042358  1469.741699  10798098671   \n",
              "2022-09-18  1469.705444  1469.705444  1331.494751  1335.329102  15762284723   \n",
              "2022-09-19  1335.270752  1388.272217  1287.420898  1377.541382  18712714223   \n",
              "2022-09-20  1377.619019  1381.965698  1319.201416  1324.388184  14722317220   \n",
              "\n",
              "              adj close  \n",
              "Date                     \n",
              "2022-09-16  1432.447754  \n",
              "2022-09-17  1469.741699  \n",
              "2022-09-18  1335.329102  \n",
              "2022-09-19  1377.541382  \n",
              "2022-09-20  1324.388184  "
            ],
            "text/html": [
              "\n",
              "  <div id=\"df-7f74eb18-f1f1-4a1b-88cc-04ad55228c74\">\n",
              "    <div class=\"colab-df-container\">\n",
              "      <div>\n",
              "<style scoped>\n",
              "    .dataframe tbody tr th:only-of-type {\n",
              "        vertical-align: middle;\n",
              "    }\n",
              "\n",
              "    .dataframe tbody tr th {\n",
              "        vertical-align: top;\n",
              "    }\n",
              "\n",
              "    .dataframe thead th {\n",
              "        text-align: right;\n",
              "    }\n",
              "</style>\n",
              "<table border=\"1\" class=\"dataframe\">\n",
              "  <thead>\n",
              "    <tr style=\"text-align: right;\">\n",
              "      <th></th>\n",
              "      <th>open</th>\n",
              "      <th>high</th>\n",
              "      <th>low</th>\n",
              "      <th>close</th>\n",
              "      <th>volume</th>\n",
              "      <th>adj close</th>\n",
              "    </tr>\n",
              "    <tr>\n",
              "      <th>Date</th>\n",
              "      <th></th>\n",
              "      <th></th>\n",
              "      <th></th>\n",
              "      <th></th>\n",
              "      <th></th>\n",
              "      <th></th>\n",
              "    </tr>\n",
              "  </thead>\n",
              "  <tbody>\n",
              "    <tr>\n",
              "      <th>2022-09-16</th>\n",
              "      <td>1471.928345</td>\n",
              "      <td>1480.564209</td>\n",
              "      <td>1415.581299</td>\n",
              "      <td>1432.447754</td>\n",
              "      <td>16764804299</td>\n",
              "      <td>1432.447754</td>\n",
              "    </tr>\n",
              "    <tr>\n",
              "      <th>2022-09-17</th>\n",
              "      <td>1432.876465</td>\n",
              "      <td>1473.060425</td>\n",
              "      <td>1415.042358</td>\n",
              "      <td>1469.741699</td>\n",
              "      <td>10798098671</td>\n",
              "      <td>1469.741699</td>\n",
              "    </tr>\n",
              "    <tr>\n",
              "      <th>2022-09-18</th>\n",
              "      <td>1469.705444</td>\n",
              "      <td>1469.705444</td>\n",
              "      <td>1331.494751</td>\n",
              "      <td>1335.329102</td>\n",
              "      <td>15762284723</td>\n",
              "      <td>1335.329102</td>\n",
              "    </tr>\n",
              "    <tr>\n",
              "      <th>2022-09-19</th>\n",
              "      <td>1335.270752</td>\n",
              "      <td>1388.272217</td>\n",
              "      <td>1287.420898</td>\n",
              "      <td>1377.541382</td>\n",
              "      <td>18712714223</td>\n",
              "      <td>1377.541382</td>\n",
              "    </tr>\n",
              "    <tr>\n",
              "      <th>2022-09-20</th>\n",
              "      <td>1377.619019</td>\n",
              "      <td>1381.965698</td>\n",
              "      <td>1319.201416</td>\n",
              "      <td>1324.388184</td>\n",
              "      <td>14722317220</td>\n",
              "      <td>1324.388184</td>\n",
              "    </tr>\n",
              "  </tbody>\n",
              "</table>\n",
              "</div>\n",
              "      <button class=\"colab-df-convert\" onclick=\"convertToInteractive('df-7f74eb18-f1f1-4a1b-88cc-04ad55228c74')\"\n",
              "              title=\"Convert this dataframe to an interactive table.\"\n",
              "              style=\"display:none;\">\n",
              "        \n",
              "  <svg xmlns=\"http://www.w3.org/2000/svg\" height=\"24px\"viewBox=\"0 0 24 24\"\n",
              "       width=\"24px\">\n",
              "    <path d=\"M0 0h24v24H0V0z\" fill=\"none\"/>\n",
              "    <path d=\"M18.56 5.44l.94 2.06.94-2.06 2.06-.94-2.06-.94-.94-2.06-.94 2.06-2.06.94zm-11 1L8.5 8.5l.94-2.06 2.06-.94-2.06-.94L8.5 2.5l-.94 2.06-2.06.94zm10 10l.94 2.06.94-2.06 2.06-.94-2.06-.94-.94-2.06-.94 2.06-2.06.94z\"/><path d=\"M17.41 7.96l-1.37-1.37c-.4-.4-.92-.59-1.43-.59-.52 0-1.04.2-1.43.59L10.3 9.45l-7.72 7.72c-.78.78-.78 2.05 0 2.83L4 21.41c.39.39.9.59 1.41.59.51 0 1.02-.2 1.41-.59l7.78-7.78 2.81-2.81c.8-.78.8-2.07 0-2.86zM5.41 20L4 18.59l7.72-7.72 1.47 1.35L5.41 20z\"/>\n",
              "  </svg>\n",
              "      </button>\n",
              "      \n",
              "  <style>\n",
              "    .colab-df-container {\n",
              "      display:flex;\n",
              "      flex-wrap:wrap;\n",
              "      gap: 12px;\n",
              "    }\n",
              "\n",
              "    .colab-df-convert {\n",
              "      background-color: #E8F0FE;\n",
              "      border: none;\n",
              "      border-radius: 50%;\n",
              "      cursor: pointer;\n",
              "      display: none;\n",
              "      fill: #1967D2;\n",
              "      height: 32px;\n",
              "      padding: 0 0 0 0;\n",
              "      width: 32px;\n",
              "    }\n",
              "\n",
              "    .colab-df-convert:hover {\n",
              "      background-color: #E2EBFA;\n",
              "      box-shadow: 0px 1px 2px rgba(60, 64, 67, 0.3), 0px 1px 3px 1px rgba(60, 64, 67, 0.15);\n",
              "      fill: #174EA6;\n",
              "    }\n",
              "\n",
              "    [theme=dark] .colab-df-convert {\n",
              "      background-color: #3B4455;\n",
              "      fill: #D2E3FC;\n",
              "    }\n",
              "\n",
              "    [theme=dark] .colab-df-convert:hover {\n",
              "      background-color: #434B5C;\n",
              "      box-shadow: 0px 1px 3px 1px rgba(0, 0, 0, 0.15);\n",
              "      filter: drop-shadow(0px 1px 2px rgba(0, 0, 0, 0.3));\n",
              "      fill: #FFFFFF;\n",
              "    }\n",
              "  </style>\n",
              "\n",
              "      <script>\n",
              "        const buttonEl =\n",
              "          document.querySelector('#df-7f74eb18-f1f1-4a1b-88cc-04ad55228c74 button.colab-df-convert');\n",
              "        buttonEl.style.display =\n",
              "          google.colab.kernel.accessAllowed ? 'block' : 'none';\n",
              "\n",
              "        async function convertToInteractive(key) {\n",
              "          const element = document.querySelector('#df-7f74eb18-f1f1-4a1b-88cc-04ad55228c74');\n",
              "          const dataTable =\n",
              "            await google.colab.kernel.invokeFunction('convertToInteractive',\n",
              "                                                     [key], {});\n",
              "          if (!dataTable) return;\n",
              "\n",
              "          const docLinkHtml = 'Like what you see? Visit the ' +\n",
              "            '<a target=\"_blank\" href=https://colab.research.google.com/notebooks/data_table.ipynb>data table notebook</a>'\n",
              "            + ' to learn more about interactive tables.';\n",
              "          element.innerHTML = '';\n",
              "          dataTable['output_type'] = 'display_data';\n",
              "          await google.colab.output.renderOutput(dataTable, element);\n",
              "          const docLink = document.createElement('div');\n",
              "          docLink.innerHTML = docLinkHtml;\n",
              "          element.appendChild(docLink);\n",
              "        }\n",
              "      </script>\n",
              "    </div>\n",
              "  </div>\n",
              "  "
            ]
          },
          "metadata": {},
          "execution_count": 4
        }
      ]
    },
    {
      "cell_type": "code",
      "source": [
        "target = 'adj close'\n",
        "required = ['open', 'high', 'low', 'volume']\n",
        "\n",
        "X = eth[required]\n",
        "y = eth[target]"
      ],
      "metadata": {
        "id": "FWIQ4b0Bok6x"
      },
      "execution_count": 5,
      "outputs": []
    },
    {
      "cell_type": "code",
      "source": [
        "X_train, X_test, y_train, y_test = train_test_split(X, y,\n",
        "                                                    test_size = .2,\n",
        "                                                    random_state = 42)"
      ],
      "metadata": {
        "id": "e1jPj3ZFok3a"
      },
      "execution_count": 6,
      "outputs": []
    },
    {
      "cell_type": "markdown",
      "source": [
        "## Baseline Metrics"
      ],
      "metadata": {
        "id": "rR2eqRfGUroj"
      }
    },
    {
      "cell_type": "code",
      "source": [
        "y_pred = [y_train.mean()] * len(y_train)\n",
        "baseline_mae = mean_absolute_error(y_train, y_pred)\n",
        "\n",
        "rmse = mean_squared_error(y_train, y_pred)\n",
        "lin_rmse = np.sqrt(rmse)\n",
        "\n",
        "print('Mean Sale Price:', y_train.mean())\n",
        "print('Baseline MAE:', baseline_mae)\n",
        "print('Linear Regression RMSE: ', lin_rmse)"
      ],
      "metadata": {
        "colab": {
          "base_uri": "https://localhost:8080/"
        },
        "id": "0MuVf6Dzok1M",
        "outputId": "c4cef0cc-bd2c-495d-b7f0-240b4d22d0f3"
      },
      "execution_count": 7,
      "outputs": [
        {
          "output_type": "stream",
          "name": "stdout",
          "text": [
            "Mean Sale Price: 1367.560926072141\n",
            "Baseline MAE: 88.59903190339948\n",
            "Linear Regression RMSE:  114.73642406928981\n"
          ]
        }
      ]
    },
    {
      "cell_type": "markdown",
      "source": [
        "# Build Models"
      ],
      "metadata": {
        "id": "cLRF7105UvCq"
      }
    },
    {
      "cell_type": "code",
      "source": [
        "# Build LinearRegression Model\n",
        "model = LinearRegression()\n",
        "\n",
        "model.fit(X_train, y_train)"
      ],
      "metadata": {
        "colab": {
          "base_uri": "https://localhost:8080/"
        },
        "id": "osZPTpmCoksX",
        "outputId": "7f584b12-75b8-4efa-9662-fb5b63ffbc12"
      },
      "execution_count": 8,
      "outputs": [
        {
          "output_type": "execute_result",
          "data": {
            "text/plain": [
              "LinearRegression()"
            ]
          },
          "metadata": {},
          "execution_count": 8
        }
      ]
    },
    {
      "cell_type": "code",
      "source": [
        "# Build Ridge Regression Model\n",
        "model_rr = make_pipeline(\n",
        "    StandardScaler(),\n",
        "    decomposition.PCA(),\n",
        "    Ridge(alpha=10, max_iter=None, fit_intercept=True)\n",
        ")\n",
        "model_rr.fit(X_train, y_train)"
      ],
      "metadata": {
        "colab": {
          "base_uri": "https://localhost:8080/"
        },
        "id": "7U-lBlMueh1H",
        "outputId": "0097d153-5948-4352-ce48-2fc15e1f2327"
      },
      "execution_count": 154,
      "outputs": [
        {
          "output_type": "execute_result",
          "data": {
            "text/plain": [
              "Pipeline(steps=[('standardscaler', StandardScaler()), ('pca', PCA()),\n",
              "                ('ridge', Ridge(alpha=10))])"
            ]
          },
          "metadata": {},
          "execution_count": 154
        }
      ]
    },
    {
      "cell_type": "code",
      "source": [
        "# GridSearch Model\n",
        "param = {'alpha': [0,.5,1,1.5,2,2.5,3,4,5,6,7.5,8,8.5,9,9.5,10] , \n",
        "         'fit_intercept': [True, False]}\n",
        "\n",
        "model_rr_gs = Ridge()\n",
        "model_gs = GridSearchCV(model_rr_gs, param, n_jobs=-1)\n",
        "model_gs.fit(X_train, y_train)\n",
        "model_gs.best_params_"
      ],
      "metadata": {
        "colab": {
          "base_uri": "https://localhost:8080/"
        },
        "id": "FI7g4vZ47VgI",
        "outputId": "25f725f8-4742-4538-a3e2-cd3947c9256f"
      },
      "execution_count": 158,
      "outputs": [
        {
          "output_type": "stream",
          "name": "stderr",
          "text": [
            "/usr/local/lib/python3.8/dist-packages/sklearn/linear_model/_ridge.py:157: LinAlgWarning:\n",
            "\n",
            "Ill-conditioned matrix (rcond=1.1582e-18): result may not be accurate.\n",
            "\n"
          ]
        },
        {
          "output_type": "execute_result",
          "data": {
            "text/plain": [
              "{'alpha': 10, 'fit_intercept': False}"
            ]
          },
          "metadata": {},
          "execution_count": 158
        }
      ]
    },
    {
      "cell_type": "code",
      "source": [
        "# RandomizedSearch Model\n",
        "model_rs = RandomizedSearchCV(model_rr_gs, param, n_jobs=-1)\n",
        "model_rs.fit(X_train, y_train)\n",
        "model_rs.best_params_"
      ],
      "metadata": {
        "colab": {
          "base_uri": "https://localhost:8080/"
        },
        "id": "vNlpptYj9y3-",
        "outputId": "0b0838e1-7575-4c3d-ff17-d5e53651b4c4"
      },
      "execution_count": 156,
      "outputs": [
        {
          "output_type": "stream",
          "name": "stderr",
          "text": [
            "/usr/local/lib/python3.8/dist-packages/sklearn/linear_model/_ridge.py:157: LinAlgWarning:\n",
            "\n",
            "Ill-conditioned matrix (rcond=1.22163e-18): result may not be accurate.\n",
            "\n"
          ]
        },
        {
          "output_type": "execute_result",
          "data": {
            "text/plain": [
              "{'fit_intercept': False, 'alpha': 1000}"
            ]
          },
          "metadata": {},
          "execution_count": 156
        }
      ]
    },
    {
      "cell_type": "code",
      "source": [
        "# Build Gradient Boosted Model\n",
        "\n",
        "model_gb = make_pipeline(\n",
        "    GradientBoostingRegressor(random_state=42, n_estimators=95, max_features=.8)\n",
        ")\n",
        "model_gb.fit(X_train, y_train)"
      ],
      "metadata": {
        "colab": {
          "base_uri": "https://localhost:8080/"
        },
        "id": "RtO2lB5DTxT9",
        "outputId": "92cbb959-8b71-41db-c5b4-f27fe4d37267"
      },
      "execution_count": 148,
      "outputs": [
        {
          "output_type": "execute_result",
          "data": {
            "text/plain": [
              "Pipeline(steps=[('gradientboostingregressor',\n",
              "                 GradientBoostingRegressor(max_features=0.8, n_estimators=95,\n",
              "                                           random_state=42))])"
            ]
          },
          "metadata": {},
          "execution_count": 148
        }
      ]
    },
    {
      "cell_type": "code",
      "source": [
        "# Build XGB Model\n",
        "\n",
        "model_xgb = make_pipeline(\n",
        "    XGBRegressor(random_state=42, n_estimators=95, n_jobs=-1, max_features=.8)\n",
        ")\n",
        "\n",
        "model_xgb.fit(X_train, y_train)"
      ],
      "metadata": {
        "colab": {
          "base_uri": "https://localhost:8080/"
        },
        "id": "lsbGWRpDuQTj",
        "outputId": "9bf01338-0df7-4e2a-d28b-db696151f092"
      },
      "execution_count": 11,
      "outputs": [
        {
          "output_type": "stream",
          "name": "stdout",
          "text": [
            "[19:33:02] WARNING: /workspace/src/objective/regression_obj.cu:152: reg:linear is now deprecated in favor of reg:squarederror.\n"
          ]
        },
        {
          "output_type": "execute_result",
          "data": {
            "text/plain": [
              "Pipeline(steps=[('xgbregressor',\n",
              "                 XGBRegressor(max_features=0.8, n_estimators=95, n_jobs=-1,\n",
              "                              random_state=42))])"
            ]
          },
          "metadata": {},
          "execution_count": 11
        }
      ]
    },
    {
      "cell_type": "code",
      "source": [
        "model.score(X_test, y_test)"
      ],
      "metadata": {
        "colab": {
          "base_uri": "https://localhost:8080/"
        },
        "id": "tln0tUltpBgX",
        "outputId": "a7c3ec0a-7674-41a1-c427-8a10f44e0eeb"
      },
      "execution_count": 12,
      "outputs": [
        {
          "output_type": "execute_result",
          "data": {
            "text/plain": [
              "0.9532208435238853"
            ]
          },
          "metadata": {},
          "execution_count": 12
        }
      ]
    },
    {
      "cell_type": "code",
      "source": [
        "model_rr.score(X_test, y_test)"
      ],
      "metadata": {
        "colab": {
          "base_uri": "https://localhost:8080/"
        },
        "id": "YGIB-Lnlhh2S",
        "outputId": "e4468372-b34a-49a9-b25c-818c7bc01c10"
      },
      "execution_count": 149,
      "outputs": [
        {
          "output_type": "execute_result",
          "data": {
            "text/plain": [
              "0.9612604057587606"
            ]
          },
          "metadata": {},
          "execution_count": 149
        }
      ]
    },
    {
      "cell_type": "code",
      "source": [
        "model_gs.score(X_test, y_test)"
      ],
      "metadata": {
        "colab": {
          "base_uri": "https://localhost:8080/"
        },
        "id": "uXB4iFGZ8VVr",
        "outputId": "37397da6-dd52-4ed5-b970-52cbc36f32a4"
      },
      "execution_count": 150,
      "outputs": [
        {
          "output_type": "execute_result",
          "data": {
            "text/plain": [
              "0.9458530314352066"
            ]
          },
          "metadata": {},
          "execution_count": 150
        }
      ]
    },
    {
      "cell_type": "code",
      "source": [
        "model_rs.score(X_test, y_test)"
      ],
      "metadata": {
        "colab": {
          "base_uri": "https://localhost:8080/"
        },
        "id": "omfXsssc-VaT",
        "outputId": "909b8dda-68f8-4371-90fa-8dff2ce12f38"
      },
      "execution_count": 151,
      "outputs": [
        {
          "output_type": "execute_result",
          "data": {
            "text/plain": [
              "0.9455335726584471"
            ]
          },
          "metadata": {},
          "execution_count": 151
        }
      ]
    },
    {
      "cell_type": "code",
      "source": [
        "model_gb.score(X_test, y_test)"
      ],
      "metadata": {
        "colab": {
          "base_uri": "https://localhost:8080/"
        },
        "id": "xsY-zXGOVGXc",
        "outputId": "70295105-aa97-4916-d66a-935985cedc27"
      },
      "execution_count": 14,
      "outputs": [
        {
          "output_type": "execute_result",
          "data": {
            "text/plain": [
              "0.9165807736255649"
            ]
          },
          "metadata": {},
          "execution_count": 14
        }
      ]
    },
    {
      "cell_type": "code",
      "source": [
        "model_xgb.score(X_test, y_test)"
      ],
      "metadata": {
        "id": "rt2UXQg-pBdq",
        "colab": {
          "base_uri": "https://localhost:8080/"
        },
        "outputId": "5fc724dd-f2a4-4868-82aa-70aa151bb199"
      },
      "execution_count": 15,
      "outputs": [
        {
          "output_type": "execute_result",
          "data": {
            "text/plain": [
              "0.9175192648923002"
            ]
          },
          "metadata": {},
          "execution_count": 15
        }
      ]
    },
    {
      "cell_type": "code",
      "source": [
        "future_set = eth.shift(periods=30).tail(30)\n",
        "future_set.dropna(inplace=True)"
      ],
      "metadata": {
        "id": "IwmZgKG0VXr0"
      },
      "execution_count": 16,
      "outputs": []
    },
    {
      "cell_type": "code",
      "source": [
        "future_set.head()"
      ],
      "metadata": {
        "colab": {
          "base_uri": "https://localhost:8080/",
          "height": 237
        },
        "id": "Ih9b4qHbpBYm",
        "outputId": "03fbb551-7135-40dd-f144-2b59753c1b5a"
      },
      "execution_count": 17,
      "outputs": [
        {
          "output_type": "execute_result",
          "data": {
            "text/plain": [
              "                   open         high          low        close        volume  \\\n",
              "Date                                                                           \n",
              "2022-10-16  1471.928345  1480.564209  1415.581299  1432.447754  1.676480e+10   \n",
              "2022-10-16  1432.876465  1473.060425  1415.042358  1469.741699  1.079810e+10   \n",
              "2022-10-17  1469.705444  1469.705444  1331.494751  1335.329102  1.576228e+10   \n",
              "2022-10-18  1335.270752  1388.272217  1287.420898  1377.541382  1.871271e+10   \n",
              "2022-10-19  1377.619019  1381.965698  1319.201416  1324.388184  1.472232e+10   \n",
              "\n",
              "              adj close  \n",
              "Date                     \n",
              "2022-10-16  1432.447754  \n",
              "2022-10-16  1469.741699  \n",
              "2022-10-17  1335.329102  \n",
              "2022-10-18  1377.541382  \n",
              "2022-10-19  1324.388184  "
            ],
            "text/html": [
              "\n",
              "  <div id=\"df-3df1c60d-45df-412b-9953-0a75e2bb17e6\">\n",
              "    <div class=\"colab-df-container\">\n",
              "      <div>\n",
              "<style scoped>\n",
              "    .dataframe tbody tr th:only-of-type {\n",
              "        vertical-align: middle;\n",
              "    }\n",
              "\n",
              "    .dataframe tbody tr th {\n",
              "        vertical-align: top;\n",
              "    }\n",
              "\n",
              "    .dataframe thead th {\n",
              "        text-align: right;\n",
              "    }\n",
              "</style>\n",
              "<table border=\"1\" class=\"dataframe\">\n",
              "  <thead>\n",
              "    <tr style=\"text-align: right;\">\n",
              "      <th></th>\n",
              "      <th>open</th>\n",
              "      <th>high</th>\n",
              "      <th>low</th>\n",
              "      <th>close</th>\n",
              "      <th>volume</th>\n",
              "      <th>adj close</th>\n",
              "    </tr>\n",
              "    <tr>\n",
              "      <th>Date</th>\n",
              "      <th></th>\n",
              "      <th></th>\n",
              "      <th></th>\n",
              "      <th></th>\n",
              "      <th></th>\n",
              "      <th></th>\n",
              "    </tr>\n",
              "  </thead>\n",
              "  <tbody>\n",
              "    <tr>\n",
              "      <th>2022-10-16</th>\n",
              "      <td>1471.928345</td>\n",
              "      <td>1480.564209</td>\n",
              "      <td>1415.581299</td>\n",
              "      <td>1432.447754</td>\n",
              "      <td>1.676480e+10</td>\n",
              "      <td>1432.447754</td>\n",
              "    </tr>\n",
              "    <tr>\n",
              "      <th>2022-10-16</th>\n",
              "      <td>1432.876465</td>\n",
              "      <td>1473.060425</td>\n",
              "      <td>1415.042358</td>\n",
              "      <td>1469.741699</td>\n",
              "      <td>1.079810e+10</td>\n",
              "      <td>1469.741699</td>\n",
              "    </tr>\n",
              "    <tr>\n",
              "      <th>2022-10-17</th>\n",
              "      <td>1469.705444</td>\n",
              "      <td>1469.705444</td>\n",
              "      <td>1331.494751</td>\n",
              "      <td>1335.329102</td>\n",
              "      <td>1.576228e+10</td>\n",
              "      <td>1335.329102</td>\n",
              "    </tr>\n",
              "    <tr>\n",
              "      <th>2022-10-18</th>\n",
              "      <td>1335.270752</td>\n",
              "      <td>1388.272217</td>\n",
              "      <td>1287.420898</td>\n",
              "      <td>1377.541382</td>\n",
              "      <td>1.871271e+10</td>\n",
              "      <td>1377.541382</td>\n",
              "    </tr>\n",
              "    <tr>\n",
              "      <th>2022-10-19</th>\n",
              "      <td>1377.619019</td>\n",
              "      <td>1381.965698</td>\n",
              "      <td>1319.201416</td>\n",
              "      <td>1324.388184</td>\n",
              "      <td>1.472232e+10</td>\n",
              "      <td>1324.388184</td>\n",
              "    </tr>\n",
              "  </tbody>\n",
              "</table>\n",
              "</div>\n",
              "      <button class=\"colab-df-convert\" onclick=\"convertToInteractive('df-3df1c60d-45df-412b-9953-0a75e2bb17e6')\"\n",
              "              title=\"Convert this dataframe to an interactive table.\"\n",
              "              style=\"display:none;\">\n",
              "        \n",
              "  <svg xmlns=\"http://www.w3.org/2000/svg\" height=\"24px\"viewBox=\"0 0 24 24\"\n",
              "       width=\"24px\">\n",
              "    <path d=\"M0 0h24v24H0V0z\" fill=\"none\"/>\n",
              "    <path d=\"M18.56 5.44l.94 2.06.94-2.06 2.06-.94-2.06-.94-.94-2.06-.94 2.06-2.06.94zm-11 1L8.5 8.5l.94-2.06 2.06-.94-2.06-.94L8.5 2.5l-.94 2.06-2.06.94zm10 10l.94 2.06.94-2.06 2.06-.94-2.06-.94-.94-2.06-.94 2.06-2.06.94z\"/><path d=\"M17.41 7.96l-1.37-1.37c-.4-.4-.92-.59-1.43-.59-.52 0-1.04.2-1.43.59L10.3 9.45l-7.72 7.72c-.78.78-.78 2.05 0 2.83L4 21.41c.39.39.9.59 1.41.59.51 0 1.02-.2 1.41-.59l7.78-7.78 2.81-2.81c.8-.78.8-2.07 0-2.86zM5.41 20L4 18.59l7.72-7.72 1.47 1.35L5.41 20z\"/>\n",
              "  </svg>\n",
              "      </button>\n",
              "      \n",
              "  <style>\n",
              "    .colab-df-container {\n",
              "      display:flex;\n",
              "      flex-wrap:wrap;\n",
              "      gap: 12px;\n",
              "    }\n",
              "\n",
              "    .colab-df-convert {\n",
              "      background-color: #E8F0FE;\n",
              "      border: none;\n",
              "      border-radius: 50%;\n",
              "      cursor: pointer;\n",
              "      display: none;\n",
              "      fill: #1967D2;\n",
              "      height: 32px;\n",
              "      padding: 0 0 0 0;\n",
              "      width: 32px;\n",
              "    }\n",
              "\n",
              "    .colab-df-convert:hover {\n",
              "      background-color: #E2EBFA;\n",
              "      box-shadow: 0px 1px 2px rgba(60, 64, 67, 0.3), 0px 1px 3px 1px rgba(60, 64, 67, 0.15);\n",
              "      fill: #174EA6;\n",
              "    }\n",
              "\n",
              "    [theme=dark] .colab-df-convert {\n",
              "      background-color: #3B4455;\n",
              "      fill: #D2E3FC;\n",
              "    }\n",
              "\n",
              "    [theme=dark] .colab-df-convert:hover {\n",
              "      background-color: #434B5C;\n",
              "      box-shadow: 0px 1px 3px 1px rgba(0, 0, 0, 0.15);\n",
              "      filter: drop-shadow(0px 1px 2px rgba(0, 0, 0, 0.3));\n",
              "      fill: #FFFFFF;\n",
              "    }\n",
              "  </style>\n",
              "\n",
              "      <script>\n",
              "        const buttonEl =\n",
              "          document.querySelector('#df-3df1c60d-45df-412b-9953-0a75e2bb17e6 button.colab-df-convert');\n",
              "        buttonEl.style.display =\n",
              "          google.colab.kernel.accessAllowed ? 'block' : 'none';\n",
              "\n",
              "        async function convertToInteractive(key) {\n",
              "          const element = document.querySelector('#df-3df1c60d-45df-412b-9953-0a75e2bb17e6');\n",
              "          const dataTable =\n",
              "            await google.colab.kernel.invokeFunction('convertToInteractive',\n",
              "                                                     [key], {});\n",
              "          if (!dataTable) return;\n",
              "\n",
              "          const docLinkHtml = 'Like what you see? Visit the ' +\n",
              "            '<a target=\"_blank\" href=https://colab.research.google.com/notebooks/data_table.ipynb>data table notebook</a>'\n",
              "            + ' to learn more about interactive tables.';\n",
              "          element.innerHTML = '';\n",
              "          dataTable['output_type'] = 'display_data';\n",
              "          await google.colab.output.renderOutput(dataTable, element);\n",
              "          const docLink = document.createElement('div');\n",
              "          docLink.innerHTML = docLinkHtml;\n",
              "          element.appendChild(docLink);\n",
              "        }\n",
              "      </script>\n",
              "    </div>\n",
              "  </div>\n",
              "  "
            ]
          },
          "metadata": {},
          "execution_count": 17
        }
      ]
    },
    {
      "cell_type": "code",
      "source": [
        "y_pred = model.predict(future_set[required])\n",
        "\n",
        "print('My LinearRegression predictions:', y_pred)"
      ],
      "metadata": {
        "colab": {
          "base_uri": "https://localhost:8080/"
        },
        "id": "FGRkvLfNpBUD",
        "outputId": "f078c6a7-010f-4528-b0cb-00ca839791cb"
      },
      "execution_count": 18,
      "outputs": [
        {
          "output_type": "stream",
          "name": "stdout",
          "text": [
            "My LinearRegression predictions: [1428.00311172 1447.16037907 1351.37576634 1339.9842797  1332.3323783\n",
            " 1296.73389464 1315.89738372 1302.88293486 1331.07127862 1297.09238665\n",
            " 1320.30321084 1364.56980555 1298.53796345 1310.44985083 1350.77475147\n",
            " 1314.12482539 1286.90257419 1315.78249961 1355.40203157 1328.0345576\n",
            " 1372.39405424 1333.08052275 1314.84938628 1321.36800506 1308.46443985\n",
            " 1282.63058176 1299.5927526  1229.58165277 1330.4192328 ]\n"
          ]
        }
      ]
    },
    {
      "cell_type": "code",
      "source": [
        "y_rr_pred = model_rr.predict(future_set[required])\n",
        "\n",
        "print('My Ridge Regression predictions:', y_rr_pred)"
      ],
      "metadata": {
        "colab": {
          "base_uri": "https://localhost:8080/"
        },
        "id": "tYyGwEPKhq5T",
        "outputId": "53a89e09-8c7a-4b66-b811-275776f1d693"
      },
      "execution_count": 152,
      "outputs": [
        {
          "output_type": "stream",
          "name": "stdout",
          "text": [
            "My Ridge Regression predictions: [1438.46770907 1435.60453781 1393.66828519 1338.37417982 1352.05029853\n",
            " 1308.54541421 1294.46690503 1316.02999559 1334.52618468 1311.47363972\n",
            " 1314.70716509 1352.3247339  1314.36851843 1325.75549402 1347.03600068\n",
            " 1326.60938207 1304.99722158 1306.43127001 1345.77905271 1345.53197726\n",
            " 1366.13506799 1344.591738   1328.53799203 1326.21911255 1320.37755899\n",
            " 1295.35231638 1300.39063601 1264.27364382 1318.29955138]\n"
          ]
        }
      ]
    },
    {
      "cell_type": "code",
      "source": [
        "y_gb_pred = model_gb.predict(future_set[required])\n",
        "\n",
        "print('My GradientBoostingRegressor predictions:', y_gb_pred)"
      ],
      "metadata": {
        "colab": {
          "base_uri": "https://localhost:8080/"
        },
        "id": "4SCQyefCVoNP",
        "outputId": "2b664300-4116-4e13-cb24-715455385b89"
      },
      "execution_count": 22,
      "outputs": [
        {
          "output_type": "stream",
          "name": "stdout",
          "text": [
            "My GradientBoostingRegressor predictions: [1486.30096049 1470.10503118 1335.72636712 1326.61662441 1327.75174772\n",
            " 1335.47828948 1326.21328971 1325.78487626 1318.99517774 1297.03590168\n",
            " 1329.92086901 1332.6285497  1324.29778692 1309.73842546 1329.01972731\n",
            " 1311.19248201 1278.66353128 1323.32265514 1359.4198095  1350.98986782\n",
            " 1353.01096672 1336.49923314 1314.59665676 1321.02418788 1293.99800669\n",
            " 1286.13446163 1294.27334225 1287.89372454 1300.26050497]\n"
          ]
        }
      ]
    },
    {
      "cell_type": "code",
      "source": [
        "y_xgb_pred = model_xgb.predict(future_set[required])\n",
        "\n",
        "print('My GradientBoostingRegressor predictions:', y_xgb_pred)"
      ],
      "metadata": {
        "colab": {
          "base_uri": "https://localhost:8080/"
        },
        "id": "Cp-ZbxtuVn6w",
        "outputId": "a6898599-f422-4bfb-9471-39f82072a204"
      },
      "execution_count": 67,
      "outputs": [
        {
          "output_type": "stream",
          "name": "stdout",
          "text": [
            "My GradientBoostingRegressor predictions: [1470.885  1469.4037 1335.7675 1324.9474 1327.0973 1314.0906 1321.7288\n",
            " 1324.5516 1315.7264 1299.3086 1321.0466 1336.1333 1324.5516 1305.2854\n",
            " 1329.9332 1313.3013 1283.0626 1321.314  1355.1184 1350.8862 1363.3389\n",
            " 1336.9756 1315.323  1320.3776 1298.1573 1288.0458 1291.8772 1286.152\n",
            " 1307.3212]\n"
          ]
        }
      ]
    },
    {
      "cell_type": "markdown",
      "source": [
        "## Visualizations"
      ],
      "metadata": {
        "id": "2ssJTiWfUema"
      }
    },
    {
      "cell_type": "code",
      "source": [
        "# Plot Distribution of Values\n",
        "eth.hist(figsize=(15,15))"
      ],
      "metadata": {
        "colab": {
          "base_uri": "https://localhost:8080/",
          "height": 1000
        },
        "id": "AuF4tmWU3Gpg",
        "outputId": "068622ba-c253-4356-c6bc-ab74f5313592"
      },
      "execution_count": 68,
      "outputs": [
        {
          "output_type": "execute_result",
          "data": {
            "text/plain": [
              "array([[<matplotlib.axes._subplots.AxesSubplot object at 0x7f613058b4f0>,\n",
              "        <matplotlib.axes._subplots.AxesSubplot object at 0x7f6130548610>],\n",
              "       [<matplotlib.axes._subplots.AxesSubplot object at 0x7f61304f6a30>,\n",
              "        <matplotlib.axes._subplots.AxesSubplot object at 0x7f6130523e20>],\n",
              "       [<matplotlib.axes._subplots.AxesSubplot object at 0x7f61304d5b50>,\n",
              "        <matplotlib.axes._subplots.AxesSubplot object at 0x7f613048d1f0>]],\n",
              "      dtype=object)"
            ]
          },
          "metadata": {},
          "execution_count": 68
        },
        {
          "output_type": "display_data",
          "data": {
            "text/plain": [
              "<Figure size 1080x1080 with 6 Axes>"
            ],
            "image/png": "[encoded data removed]"
          },
          "metadata": {
            "needs_background": "light"
          }
        }
      ]
    },
    {
      "cell_type": "code",
      "source": [
        "eth.boxplot()"
      ],
      "metadata": {
        "colab": {
          "base_uri": "https://localhost:8080/",
          "height": 293
        },
        "id": "6NLQmWFx4S2G",
        "outputId": "3482d1ed-4ce6-4150-bfb0-e45cc665c703"
      },
      "execution_count": 69,
      "outputs": [
        {
          "output_type": "execute_result",
          "data": {
            "text/plain": [
              "<matplotlib.axes._subplots.AxesSubplot at 0x7f6130954ee0>"
            ]
          },
          "metadata": {},
          "execution_count": 69
        },
        {
          "output_type": "display_data",
          "data": {
            "text/plain": [
              "<Figure size 432x288 with 1 Axes>"
            ],
            "image/png": "[encoded data removed]"
          },
          "metadata": {
            "needs_background": "light"
          }
        }
      ]
    },
    {
      "cell_type": "code",
      "source": [
        "# Normalize Data\n",
        "eth_norm = preprocessing.normalize(eth, axis=0)\n",
        "eth_df = pd.DataFrame(eth_norm, columns=[eth.columns])\n",
        "\n",
        "eth_df.hist(figsize=(15,15))"
      ],
      "metadata": {
        "colab": {
          "base_uri": "https://localhost:8080/",
          "height": 1000
        },
        "id": "e4rtD4Y7WoRa",
        "outputId": "3d694107-84cc-4c13-d72d-99c867cfbd13"
      },
      "execution_count": 70,
      "outputs": [
        {
          "output_type": "execute_result",
          "data": {
            "text/plain": [
              "array([[<matplotlib.axes._subplots.AxesSubplot object at 0x7f613025f670>,\n",
              "        <matplotlib.axes._subplots.AxesSubplot object at 0x7f6130205d60>],\n",
              "       [<matplotlib.axes._subplots.AxesSubplot object at 0x7f61301be1c0>,\n",
              "        <matplotlib.axes._subplots.AxesSubplot object at 0x7f613016c5b0>],\n",
              "       [<matplotlib.axes._subplots.AxesSubplot object at 0x7f61301999a0>,\n",
              "        <matplotlib.axes._subplots.AxesSubplot object at 0x7f6130147cd0>]],\n",
              "      dtype=object)"
            ]
          },
          "metadata": {},
          "execution_count": 70
        },
        {
          "output_type": "display_data",
          "data": {
            "text/plain": [
              "<Figure size 1080x1080 with 6 Axes>"
            ],
            "image/png": "[encoded data removed]"
          },
          "metadata": {
            "needs_background": "light"
          }
        }
      ]
    },
    {
      "cell_type": "code",
      "source": [
        "# MinMaxScaler\n",
        "\n",
        "scaler = preprocessing.MinMaxScaler(feature_range=(0,2))\n",
        "norm =scaler.fit_transform(eth)\n",
        "eth_norm_df = pd.DataFrame(norm, columns=[eth.columns])\n",
        "print('OG Data:\\n',eth.head(10))\n",
        "print('***************************************************************************\\n')\n",
        "print('Normalized Data with MinMaxScaler:\\n',eth_norm_df.head(10))"
      ],
      "metadata": {
        "colab": {
          "base_uri": "https://localhost:8080/"
        },
        "id": "sVexQN4Vb4Gk",
        "outputId": "e5eba648-e64c-42d1-e127-721ab8d17c53"
      },
      "execution_count": 71,
      "outputs": [
        {
          "output_type": "stream",
          "name": "stdout",
          "text": [
            "OG Data:\n",
            "                    open         high          low        close       volume  \\\n",
            "Date                                                                          \n",
            "2022-09-16  1471.928345  1480.564209  1415.581299  1432.447754  16764804299   \n",
            "2022-09-17  1432.876465  1473.060425  1415.042358  1469.741699  10798098671   \n",
            "2022-09-18  1469.705444  1469.705444  1331.494751  1335.329102  15762284723   \n",
            "2022-09-19  1335.270752  1388.272217  1287.420898  1377.541382  18712714223   \n",
            "2022-09-20  1377.619019  1381.965698  1319.201416  1324.388184  14722317220   \n",
            "2022-09-21  1324.215576  1384.476929  1229.426758  1252.607788  20643507800   \n",
            "2022-09-22  1251.567383  1336.157837  1240.968262  1327.680176  18461527259   \n",
            "2022-09-23  1327.481201  1353.288330  1270.198364  1328.259521  18771106339   \n",
            "2022-09-24  1328.244629  1346.255249  1312.640259  1317.993286  12098209717   \n",
            "2022-09-25  1317.938477  1333.371338  1275.627686  1294.216797  11802651633   \n",
            "\n",
            "              adj close  \n",
            "Date                     \n",
            "2022-09-16  1432.447754  \n",
            "2022-09-17  1469.741699  \n",
            "2022-09-18  1335.329102  \n",
            "2022-09-19  1377.541382  \n",
            "2022-09-20  1324.388184  \n",
            "2022-09-21  1252.607788  \n",
            "2022-09-22  1327.680176  \n",
            "2022-09-23  1328.259521  \n",
            "2022-09-24  1317.993286  \n",
            "2022-09-25  1294.216797  \n",
            "***************************************************************************\n",
            "\n",
            "Normalized Data with MinMaxScaler:\n",
            "        open      high       low     close    volume adj close\n",
            "0  1.364358  1.031199  1.224650  1.219540  0.616960  1.219540\n",
            "1  1.221061  0.990984  1.222664  1.356417  0.290570  1.356417\n",
            "2  1.356201  0.973003  0.914755  0.863091  0.562120  0.863091\n",
            "3  0.862908  0.536579  0.752325  1.018020  0.723514  1.018020\n",
            "4  1.018300  0.502781  0.869449  0.822935  0.505232  0.822935\n",
            "5  0.822342  0.516239  0.538592  0.559484  0.829133  0.559484\n",
            "6  0.555767  0.257283  0.581127  0.835018  0.709774  0.835018\n",
            "7  0.834325  0.349090  0.688852  0.837144  0.726709  0.837144\n",
            "8  0.837126  0.311398  0.845269  0.799464  0.361688  0.799464\n",
            "9  0.799309  0.242350  0.708862  0.712199  0.345521  0.712199\n"
          ]
        }
      ]
    },
    {
      "cell_type": "code",
      "source": [
        "eth_norm_df.hist(figsize=(15,15))"
      ],
      "metadata": {
        "colab": {
          "base_uri": "https://localhost:8080/",
          "height": 1000
        },
        "id": "_69jlhpRctHv",
        "outputId": "084f4255-6755-4ef5-f762-383a55aa34fc"
      },
      "execution_count": 72,
      "outputs": [
        {
          "output_type": "execute_result",
          "data": {
            "text/plain": [
              "array([[<matplotlib.axes._subplots.AxesSubplot object at 0x7f612ff8ccd0>,\n",
              "        <matplotlib.axes._subplots.AxesSubplot object at 0x7f612ffc3ac0>],\n",
              "       [<matplotlib.axes._subplots.AxesSubplot object at 0x7f612ff5e3d0>,\n",
              "        <matplotlib.axes._subplots.AxesSubplot object at 0x7f612ff09a30>],\n",
              "       [<matplotlib.axes._subplots.AxesSubplot object at 0x7f612febf190>,\n",
              "        <matplotlib.axes._subplots.AxesSubplot object at 0x7f612fe677f0>]],\n",
              "      dtype=object)"
            ]
          },
          "metadata": {},
          "execution_count": 72
        },
        {
          "output_type": "display_data",
          "data": {
            "text/plain": [
              "<Figure size 1080x1080 with 6 Axes>"
            ],
            "image/png": "[encoded data removed]"
          },
          "metadata": {
            "needs_background": "light"
          }
        }
      ]
    },
    {
      "cell_type": "code",
      "source": [
        "# Visualize Ethereum Historic Data\n",
        "fig = go.Figure(data=[go.Candlestick(x=eth.index,\n",
        "                                     open=eth['open'],\n",
        "                                     high=eth['high'],\n",
        "                                     low=eth['low'],\n",
        "                                     close=eth['close'],\n",
        "                                     )])\n",
        "fig.update_layout(\n",
        "    title = \"Ethereum Historical Data\",\n",
        "    yaxis_title = 'Value in USD')\n",
        "    \n",
        "fig.show()"
      ],
      "metadata": {
        "colab": {
          "base_uri": "https://localhost:8080/",
          "height": 542
        },
        "id": "YhwDguTXolB_",
        "outputId": "b9d0458a-47e3-40f0-b8df-c674c72474d7"
      },
      "execution_count": 73,
      "outputs": [
        {
          "output_type": "display_data",
          "data": {
            "text/html": [
              "<html>\n",
              "<head><meta charset=\"utf-8\" /></head>\n",
              "<body>\n",
              "    <div>            <script src=\"https://cdnjs.cloudflare.com/ajax/libs/mathjax/2.7.5/MathJax.js?config=TeX-AMS-MML_SVG\"></script><script type=\"text/javascript\">if (window.MathJax) {MathJax.Hub.Config({SVG: {font: \"STIX-Web\"}});}</script>                <script type=\"text/javascript\">window.PlotlyConfig = {MathJaxConfig: 'local'};</script>\n",
              "        <script src=\"https://cdn.plot.ly/plotly-2.8.3.min.js\"></script>                <div id=\"c12d3564-274a-42b2-8045-3e52efb39fa2\" class=\"plotly-graph-div\" style=\"height:525px; width:100%;\"></div>            <script type=\"text/javascript\">                                    window.PLOTLYENV=window.PLOTLYENV || {};                                    if (document.getElementById(\"c12d3564-274a-42b2-8045-3e52efb39fa2\")) {                    Plotly.newPlot(                        \"c12d3564-274a-42b2-8045-3e52efb39fa2\",                        [{\"close\":[1432.44775390625,1469.74169921875,1335.3291015625,1377.5413818359375,1324.38818359375,1252.6077880859375,1327.68017578125,1328.259521484375,1317.9932861328125,1294.216796875,1335.3201904296875,1330.127685546875,1337.410888671875,1335.65234375,1327.9786376953125,1311.6444091796875,1276.093505859375,1323.439208984375,1362.1265869140625,1352.837158203125,1351.70947265625,1332.5169677734375,1315.50048828125,1322.604248046875,1291.337646484375,1279.57568359375,1294.9063720703125,1288.1239013671875,1297.422119140625,1274.8717041015625,1286.1502685546875,1306.296630859375,1331.713623046875,1310.447021484375,1285.7442626953125,1283.200927734375,1299.9464111328125,1314.2991943359375,1363.447021484375,1344.99853515625,1461.6654052734375,1566.566650390625,1514.3748779296875,1555.4779052734375,1619.698486328125,1590.7833251953125,1572.7144775390625,1579.70458984375,1519.7117919921875,1531.541748046875,1645.0933837890625,1627.968017578125,1572.2347412109375,1568.59130859375,1332.8355712890625,1100.1697998046875,1299.464599609375,1287.2210693359375,1260.7191162109375],\"high\":[1480.564208984375,1473.0604248046875,1469.7054443359375,1388.272216796875,1381.9656982421875,1384.4769287109375,1336.1578369140625,1353.288330078125,1346.2552490234375,1333.371337890625,1335.5263671875,1396.8914794921875,1351.9644775390625,1348.107666015625,1368.743408203125,1332.5164794921875,1316.330078125,1326.554443359375,1364.970947265625,1362.4517822265625,1380.4049072265625,1359.328125,1335.954833984375,1327.6688232421875,1335.6627197265625,1296.27392578125,1303.0751953125,1297.564208984375,1339.7447509765625,1300.7459716796875,1288.52197265625,1312.634521484375,1335.6478271484375,1339.0859375,1312.4423828125,1307.8551025390625,1305.081298828125,1317.10107421875,1367.7607421875,1368.425537109375,1509.9854736328125,1584.63671875,1574.4034423828125,1568.6339111328125,1652.3822021484375,1637.037841796875,1630.452880859375,1606.605712890625,1613.41064453125,1556.7596435546875,1661.334716796875,1660.4864501953125,1634.1324462890625,1604.475341796875,1574.7998046875,1335.7435302734375,1341.7911376953125,1302.2952880859375,1288.15087890625],\"low\":[1415.581298828125,1415.0423583984375,1331.4947509765625,1287.4208984375,1319.201416015625,1229.4267578125,1240.96826171875,1270.1983642578125,1312.6402587890625,1275.627685546875,1282.04931640625,1308.991455078125,1267.8692626953125,1293.193359375,1320.3831787109375,1306.1025390625,1275.3360595703125,1271.15087890625,1320.07666015625,1320.8551025390625,1349.449951171875,1321.74609375,1307.072998046875,1309.3446044921875,1291.337646484375,1272.7376708984375,1277.5274658203125,1209.2781982421875,1285.3782958984375,1268.468505859375,1276.767578125,1275.0054931640625,1297.447265625,1291.66064453125,1283.96533203125,1275.323974609375,1260.666748046875,1295.9468994140625,1302.9088134765625,1327.85400390625,1336.9788818359375,1460.4287109375,1510.8167724609375,1493.87109375,1549.983642578125,1579.4852294921875,1555.9189453125,1568.0985107421875,1507.2447509765625,1517.1016845703125,1529.2684326171875,1625.9642333984375,1572.2347412109375,1550.41552734375,1259.443115234375,1083.28564453125,1093.12255859375,1211.32958984375,1243.069091796875],\"open\":[1471.9283447265625,1432.87646484375,1469.7054443359375,1335.270751953125,1377.6190185546875,1324.215576171875,1251.5673828125,1327.481201171875,1328.24462890625,1317.9384765625,1294.3861083984375,1335.3370361328125,1329.5413818359375,1337.554443359375,1335.646484375,1328.1937255859375,1311.75341796875,1276.1634521484375,1323.2783203125,1361.972900390625,1352.806640625,1351.83642578125,1332.371337890625,1315.460205078125,1322.61865234375,1291.109619140625,1279.7322998046875,1294.9173583984375,1288.0487060546875,1297.305908203125,1276.767578125,1275.0054931640625,1306.3095703125,1331.669921875,1310.5631103515625,1285.6602783203125,1283.1881103515625,1299.90234375,1314.24951171875,1363.4918212890625,1344.7113037109375,1461.1331787109375,1566.8414306640625,1514.3231201171875,1555.274658203125,1619.6978759765625,1590.4813232421875,1572.6453857421875,1579.4979248046875,1519.724853515625,1531.3975830078125,1645.156494140625,1627.901123046875,1572.0169677734375,1568.32958984375,1333.1224365234375,1100.107177734375,1298.8824462890625,1288.15087890625],\"x\":[\"2022-09-16T00:00:00\",\"2022-09-17T00:00:00\",\"2022-09-18T00:00:00\",\"2022-09-19T00:00:00\",\"2022-09-20T00:00:00\",\"2022-09-21T00:00:00\",\"2022-09-22T00:00:00\",\"2022-09-23T00:00:00\",\"2022-09-24T00:00:00\",\"2022-09-25T00:00:00\",\"2022-09-26T00:00:00\",\"2022-09-27T00:00:00\",\"2022-09-28T00:00:00\",\"2022-09-29T00:00:00\",\"2022-09-30T00:00:00\",\"2022-10-01T00:00:00\",\"2022-10-02T00:00:00\",\"2022-10-03T00:00:00\",\"2022-10-04T00:00:00\",\"2022-10-05T00:00:00\",\"2022-10-06T00:00:00\",\"2022-10-07T00:00:00\",\"2022-10-08T00:00:00\",\"2022-10-09T00:00:00\",\"2022-10-10T00:00:00\",\"2022-10-11T00:00:00\",\"2022-10-12T00:00:00\",\"2022-10-13T00:00:00\",\"2022-10-14T00:00:00\",\"2022-10-15T00:00:00\",\"2022-10-16T00:00:00\",\"2022-10-16T00:00:00\",\"2022-10-17T00:00:00\",\"2022-10-18T00:00:00\",\"2022-10-19T00:00:00\",\"2022-10-20T00:00:00\",\"2022-10-21T00:00:00\",\"2022-10-22T00:00:00\",\"2022-10-23T00:00:00\",\"2022-10-24T00:00:00\",\"2022-10-25T00:00:00\",\"2022-10-26T00:00:00\",\"2022-10-27T00:00:00\",\"2022-10-28T00:00:00\",\"2022-10-29T00:00:00\",\"2022-10-30T00:00:00\",\"2022-10-31T00:00:00\",\"2022-11-01T00:00:00\",\"2022-11-02T00:00:00\",\"2022-11-03T00:00:00\",\"2022-11-04T00:00:00\",\"2022-11-05T00:00:00\",\"2022-11-06T00:00:00\",\"2022-11-07T00:00:00\",\"2022-11-08T00:00:00\",\"2022-11-09T00:00:00\",\"2022-11-10T00:00:00\",\"2022-11-11T00:00:00\",\"2022-11-12T00:00:00\"],\"type\":\"candlestick\"}],                        {\"template\":{\"data\":{\"bar\":[{\"error_x\":{\"color\":\"#2a3f5f\"},\"error_y\":{\"color\":\"#2a3f5f\"},\"marker\":{\"line\":{\"color\":\"#E5ECF6\",\"width\":0.5},\"pattern\":{\"fillmode\":\"overlay\",\"size\":10,\"solidity\":0.2}},\"type\":\"bar\"}],\"barpolar\":[{\"marker\":{\"line\":{\"color\":\"#E5ECF6\",\"width\":0.5},\"pattern\":{\"fillmode\":\"overlay\",\"size\":10,\"solidity\":0.2}},\"type\":\"barpolar\"}],\"carpet\":[{\"aaxis\":{\"endlinecolor\":\"#2a3f5f\",\"gridcolor\":\"white\",\"linecolor\":\"white\",\"minorgridcolor\":\"white\",\"startlinecolor\":\"#2a3f5f\"},\"baxis\":{\"endlinecolor\":\"#2a3f5f\",\"gridcolor\":\"white\",\"linecolor\":\"white\",\"minorgridcolor\":\"white\",\"startlinecolor\":\"#2a3f5f\"},\"type\":\"carpet\"}],\"choropleth\":[{\"colorbar\":{\"outlinewidth\":0,\"ticks\":\"\"},\"type\":\"choropleth\"}],\"contour\":[{\"colorbar\":{\"outlinewidth\":0,\"ticks\":\"\"},\"colorscale\":[[0.0,\"#0d0887\"],[0.1111111111111111,\"#46039f\"],[0.2222222222222222,\"#7201a8\"],[0.3333333333333333,\"#9c179e\"],[0.4444444444444444,\"#bd3786\"],[0.5555555555555556,\"#d8576b\"],[0.6666666666666666,\"#ed7953\"],[0.7777777777777778,\"#fb9f3a\"],[0.8888888888888888,\"#fdca26\"],[1.0,\"#f0f921\"]],\"type\":\"contour\"}],\"contourcarpet\":[{\"colorbar\":{\"outlinewidth\":0,\"ticks\":\"\"},\"type\":\"contourcarpet\"}],\"heatmap\":[{\"colorbar\":{\"outlinewidth\":0,\"ticks\":\"\"},\"colorscale\":[[0.0,\"#0d0887\"],[0.1111111111111111,\"#46039f\"],[0.2222222222222222,\"#7201a8\"],[0.3333333333333333,\"#9c179e\"],[0.4444444444444444,\"#bd3786\"],[0.5555555555555556,\"#d8576b\"],[0.6666666666666666,\"#ed7953\"],[0.7777777777777778,\"#fb9f3a\"],[0.8888888888888888,\"#fdca26\"],[1.0,\"#f0f921\"]],\"type\":\"heatmap\"}],\"heatmapgl\":[{\"colorbar\":{\"outlinewidth\":0,\"ticks\":\"\"},\"colorscale\":[[0.0,\"#0d0887\"],[0.1111111111111111,\"#46039f\"],[0.2222222222222222,\"#7201a8\"],[0.3333333333333333,\"#9c179e\"],[0.4444444444444444,\"#bd3786\"],[0.5555555555555556,\"#d8576b\"],[0.6666666666666666,\"#ed7953\"],[0.7777777777777778,\"#fb9f3a\"],[0.8888888888888888,\"#fdca26\"],[1.0,\"#f0f921\"]],\"type\":\"heatmapgl\"}],\"histogram\":[{\"marker\":{\"pattern\":{\"fillmode\":\"overlay\",\"size\":10,\"solidity\":0.2}},\"type\":\"histogram\"}],\"histogram2d\":[{\"colorbar\":{\"outlinewidth\":0,\"ticks\":\"\"},\"colorscale\":[[0.0,\"#0d0887\"],[0.1111111111111111,\"#46039f\"],[0.2222222222222222,\"#7201a8\"],[0.3333333333333333,\"#9c179e\"],[0.4444444444444444,\"#bd3786\"],[0.5555555555555556,\"#d8576b\"],[0.6666666666666666,\"#ed7953\"],[0.7777777777777778,\"#fb9f3a\"],[0.8888888888888888,\"#fdca26\"],[1.0,\"#f0f921\"]],\"type\":\"histogram2d\"}],\"histogram2dcontour\":[{\"colorbar\":{\"outlinewidth\":0,\"ticks\":\"\"},\"colorscale\":[[0.0,\"#0d0887\"],[0.1111111111111111,\"#46039f\"],[0.2222222222222222,\"#7201a8\"],[0.3333333333333333,\"#9c179e\"],[0.4444444444444444,\"#bd3786\"],[0.5555555555555556,\"#d8576b\"],[0.6666666666666666,\"#ed7953\"],[0.7777777777777778,\"#fb9f3a\"],[0.8888888888888888,\"#fdca26\"],[1.0,\"#f0f921\"]],\"type\":\"histogram2dcontour\"}],\"mesh3d\":[{\"colorbar\":{\"outlinewidth\":0,\"ticks\":\"\"},\"type\":\"mesh3d\"}],\"parcoords\":[{\"line\":{\"colorbar\":{\"outlinewidth\":0,\"ticks\":\"\"}},\"type\":\"parcoords\"}],\"pie\":[{\"automargin\":true,\"type\":\"pie\"}],\"scatter\":[{\"marker\":{\"colorbar\":{\"outlinewidth\":0,\"ticks\":\"\"}},\"type\":\"scatter\"}],\"scatter3d\":[{\"line\":{\"colorbar\":{\"outlinewidth\":0,\"ticks\":\"\"}},\"marker\":{\"colorbar\":{\"outlinewidth\":0,\"ticks\":\"\"}},\"type\":\"scatter3d\"}],\"scattercarpet\":[{\"marker\":{\"colorbar\":{\"outlinewidth\":0,\"ticks\":\"\"}},\"type\":\"scattercarpet\"}],\"scattergeo\":[{\"marker\":{\"colorbar\":{\"outlinewidth\":0,\"ticks\":\"\"}},\"type\":\"scattergeo\"}],\"scattergl\":[{\"marker\":{\"colorbar\":{\"outlinewidth\":0,\"ticks\":\"\"}},\"type\":\"scattergl\"}],\"scattermapbox\":[{\"marker\":{\"colorbar\":{\"outlinewidth\":0,\"ticks\":\"\"}},\"type\":\"scattermapbox\"}],\"scatterpolar\":[{\"marker\":{\"colorbar\":{\"outlinewidth\":0,\"ticks\":\"\"}},\"type\":\"scatterpolar\"}],\"scatterpolargl\":[{\"marker\":{\"colorbar\":{\"outlinewidth\":0,\"ticks\":\"\"}},\"type\":\"scatterpolargl\"}],\"scatterternary\":[{\"marker\":{\"colorbar\":{\"outlinewidth\":0,\"ticks\":\"\"}},\"type\":\"scatterternary\"}],\"surface\":[{\"colorbar\":{\"outlinewidth\":0,\"ticks\":\"\"},\"colorscale\":[[0.0,\"#0d0887\"],[0.1111111111111111,\"#46039f\"],[0.2222222222222222,\"#7201a8\"],[0.3333333333333333,\"#9c179e\"],[0.4444444444444444,\"#bd3786\"],[0.5555555555555556,\"#d8576b\"],[0.6666666666666666,\"#ed7953\"],[0.7777777777777778,\"#fb9f3a\"],[0.8888888888888888,\"#fdca26\"],[1.0,\"#f0f921\"]],\"type\":\"surface\"}],\"table\":[{\"cells\":{\"fill\":{\"color\":\"#EBF0F8\"},\"line\":{\"color\":\"white\"}},\"header\":{\"fill\":{\"color\":\"#C8D4E3\"},\"line\":{\"color\":\"white\"}},\"type\":\"table\"}]},\"layout\":{\"annotationdefaults\":{\"arrowcolor\":\"#2a3f5f\",\"arrowhead\":0,\"arrowwidth\":1},\"autotypenumbers\":\"strict\",\"coloraxis\":{\"colorbar\":{\"outlinewidth\":0,\"ticks\":\"\"}},\"colorscale\":{\"diverging\":[[0,\"#8e0152\"],[0.1,\"#c51b7d\"],[0.2,\"#de77ae\"],[0.3,\"#f1b6da\"],[0.4,\"#fde0ef\"],[0.5,\"#f7f7f7\"],[0.6,\"#e6f5d0\"],[0.7,\"#b8e186\"],[0.8,\"#7fbc41\"],[0.9,\"#4d9221\"],[1,\"#276419\"]],\"sequential\":[[0.0,\"#0d0887\"],[0.1111111111111111,\"#46039f\"],[0.2222222222222222,\"#7201a8\"],[0.3333333333333333,\"#9c179e\"],[0.4444444444444444,\"#bd3786\"],[0.5555555555555556,\"#d8576b\"],[0.6666666666666666,\"#ed7953\"],[0.7777777777777778,\"#fb9f3a\"],[0.8888888888888888,\"#fdca26\"],[1.0,\"#f0f921\"]],\"sequentialminus\":[[0.0,\"#0d0887\"],[0.1111111111111111,\"#46039f\"],[0.2222222222222222,\"#7201a8\"],[0.3333333333333333,\"#9c179e\"],[0.4444444444444444,\"#bd3786\"],[0.5555555555555556,\"#d8576b\"],[0.6666666666666666,\"#ed7953\"],[0.7777777777777778,\"#fb9f3a\"],[0.8888888888888888,\"#fdca26\"],[1.0,\"#f0f921\"]]},\"colorway\":[\"#636efa\",\"#EF553B\",\"#00cc96\",\"#ab63fa\",\"#FFA15A\",\"#19d3f3\",\"#FF6692\",\"#B6E880\",\"#FF97FF\",\"#FECB52\"],\"font\":{\"color\":\"#2a3f5f\"},\"geo\":{\"bgcolor\":\"white\",\"lakecolor\":\"white\",\"landcolor\":\"#E5ECF6\",\"showlakes\":true,\"showland\":true,\"subunitcolor\":\"white\"},\"hoverlabel\":{\"align\":\"left\"},\"hovermode\":\"closest\",\"mapbox\":{\"style\":\"light\"},\"paper_bgcolor\":\"white\",\"plot_bgcolor\":\"#E5ECF6\",\"polar\":{\"angularaxis\":{\"gridcolor\":\"white\",\"linecolor\":\"white\",\"ticks\":\"\"},\"bgcolor\":\"#E5ECF6\",\"radialaxis\":{\"gridcolor\":\"white\",\"linecolor\":\"white\",\"ticks\":\"\"}},\"scene\":{\"xaxis\":{\"backgroundcolor\":\"#E5ECF6\",\"gridcolor\":\"white\",\"gridwidth\":2,\"linecolor\":\"white\",\"showbackground\":true,\"ticks\":\"\",\"zerolinecolor\":\"white\"},\"yaxis\":{\"backgroundcolor\":\"#E5ECF6\",\"gridcolor\":\"white\",\"gridwidth\":2,\"linecolor\":\"white\",\"showbackground\":true,\"ticks\":\"\",\"zerolinecolor\":\"white\"},\"zaxis\":{\"backgroundcolor\":\"#E5ECF6\",\"gridcolor\":\"white\",\"gridwidth\":2,\"linecolor\":\"white\",\"showbackground\":true,\"ticks\":\"\",\"zerolinecolor\":\"white\"}},\"shapedefaults\":{\"line\":{\"color\":\"#2a3f5f\"}},\"ternary\":{\"aaxis\":{\"gridcolor\":\"white\",\"linecolor\":\"white\",\"ticks\":\"\"},\"baxis\":{\"gridcolor\":\"white\",\"linecolor\":\"white\",\"ticks\":\"\"},\"bgcolor\":\"#E5ECF6\",\"caxis\":{\"gridcolor\":\"white\",\"linecolor\":\"white\",\"ticks\":\"\"}},\"title\":{\"x\":0.05},\"xaxis\":{\"automargin\":true,\"gridcolor\":\"white\",\"linecolor\":\"white\",\"ticks\":\"\",\"title\":{\"standoff\":15},\"zerolinecolor\":\"white\",\"zerolinewidth\":2},\"yaxis\":{\"automargin\":true,\"gridcolor\":\"white\",\"linecolor\":\"white\",\"ticks\":\"\",\"title\":{\"standoff\":15},\"zerolinecolor\":\"white\",\"zerolinewidth\":2}}},\"title\":{\"text\":\"Ethereum Historical Data\"},\"yaxis\":{\"title\":{\"text\":\"Value in USD\"}}},                        {\"responsive\": true}                    ).then(function(){\n",
              "                            \n",
              "var gd = document.getElementById('c12d3564-274a-42b2-8045-3e52efb39fa2');\n",
              "var x = new MutationObserver(function (mutations, observer) {{\n",
              "        var display = window.getComputedStyle(gd).display;\n",
              "        if (!display || display === 'none') {{\n",
              "            console.log([gd, 'removed!']);\n",
              "            Plotly.purge(gd);\n",
              "            observer.disconnect();\n",
              "        }}\n",
              "}});\n",
              "\n",
              "// Listen for the removal of the full notebook cells\n",
              "var notebookContainer = gd.closest('#notebook-container');\n",
              "if (notebookContainer) {{\n",
              "    x.observe(notebookContainer, {childList: true});\n",
              "}}\n",
              "\n",
              "// Listen for the clearing of the current output cell\n",
              "var outputEl = gd.closest('.output');\n",
              "if (outputEl) {{\n",
              "    x.observe(outputEl, {childList: true});\n",
              "}}\n",
              "\n",
              "                        })                };                            </script>        </div>\n",
              "</body>\n",
              "</html>"
            ]
          },
          "metadata": {}
        }
      ]
    },
    {
      "cell_type": "code",
      "source": [
        "# Visualize Eth Predictions\n",
        "plt.figure(figsize=(12,7))\n",
        "plt.plot(eth.index, eth['adj close'], color='green', lw=2)\n",
        "plt.plot(future_set.index, y_pred, color='deeppink', lw=2)\n",
        "plt.title(\"Ethereum Price over time\", size=25)\n",
        "plt.xlabel(\"Time\", size=20)\n",
        "plt.ylabel(\"Price\", size=20)"
      ],
      "metadata": {
        "colab": {
          "base_uri": "https://localhost:8080/",
          "height": 493
        },
        "id": "Lx5qe662pBQp",
        "outputId": "14c17a98-c0e9-4a96-dd32-cebf42b734e0"
      },
      "execution_count": 74,
      "outputs": [
        {
          "output_type": "execute_result",
          "data": {
            "text/plain": [
              "Text(0, 0.5, 'Price')"
            ]
          },
          "metadata": {},
          "execution_count": 74
        },
        {
          "output_type": "display_data",
          "data": {
            "text/plain": [
              "<Figure size 864x504 with 1 Axes>"
            ],
            "image/png": "[encoded data removed]"
          },
          "metadata": {
            "needs_background": "light"
          }
        }
      ]
    },
    {
      "cell_type": "markdown",
      "source": [
        "# Feature Importances"
      ],
      "metadata": {
        "id": "htbWseM9YKJP"
      }
    },
    {
      "cell_type": "code",
      "source": [
        "importances = model.coef_\n",
        "feature_names = X_train.columns\n",
        "feat_imp = pd.Series(data=importances, index=feature_names).sort_values()\n",
        "\n",
        "feat_imp.tail(10).plot(kind='barh')\n",
        "plt.xlabel('Gini Importance')\n",
        "plt.ylabel('Feature')"
      ],
      "metadata": {
        "colab": {
          "base_uri": "https://localhost:8080/",
          "height": 296
        },
        "id": "_hUda1j4X25w",
        "outputId": "b8c41792-1d8c-42c1-9dd6-7fc5f4099057"
      },
      "execution_count": 75,
      "outputs": [
        {
          "output_type": "execute_result",
          "data": {
            "text/plain": [
              "Text(0, 0.5, 'Feature')"
            ]
          },
          "metadata": {},
          "execution_count": 75
        },
        {
          "output_type": "display_data",
          "data": {
            "text/plain": [
              "<Figure size 432x288 with 1 Axes>"
            ],
            "image/png": "[encoded data removed]"
          },
          "metadata": {
            "needs_background": "light"
          }
        }
      ]
    },
    {
      "cell_type": "code",
      "source": [
        "importances_rr = model.coef_\n",
        "feature_names_rr = X_train.columns\n",
        "feat_imp_rr = pd.Series(data=importances_rr, index=feature_names_rr).sort_values()\n",
        "\n",
        "feat_imp_rr.tail(10).plot(kind='barh')\n",
        "plt.xlabel('Gini Importance')\n",
        "plt.ylabel('Feature')"
      ],
      "metadata": {
        "colab": {
          "base_uri": "https://localhost:8080/",
          "height": 296
        },
        "id": "B8gWsJfAikyh",
        "outputId": "83d3a438-40e3-4e65-8c0c-751c9dad7087"
      },
      "execution_count": 153,
      "outputs": [
        {
          "output_type": "execute_result",
          "data": {
            "text/plain": [
              "Text(0, 0.5, 'Feature')"
            ]
          },
          "metadata": {},
          "execution_count": 153
        },
        {
          "output_type": "display_data",
          "data": {
            "text/plain": [
              "<Figure size 432x288 with 1 Axes>"
            ],
            "image/png": "[encoded data removed]"
          },
          "metadata": {
            "needs_background": "light"
          }
        }
      ]
    },
    {
      "cell_type": "code",
      "source": [
        "importances_gb = model_gb.named_steps['gradientboostingregressor'].feature_importances_\n",
        "feature_names_gb = X_train.columns\n",
        "feat_imp_gb = pd.Series(data=importances_gb, index=feature_names_gb).sort_values()\n",
        "\n",
        "feat_imp_gb.tail(10).plot(kind='barh')\n",
        "plt.xlabel('Gini Importance')\n",
        "plt.ylabel('Feature')"
      ],
      "metadata": {
        "colab": {
          "base_uri": "https://localhost:8080/",
          "height": 296
        },
        "id": "0Xgf9nbsXvvx",
        "outputId": "04225c45-c9b3-494b-f6bf-7e4e38561e73"
      },
      "execution_count": 77,
      "outputs": [
        {
          "output_type": "execute_result",
          "data": {
            "text/plain": [
              "Text(0, 0.5, 'Feature')"
            ]
          },
          "metadata": {},
          "execution_count": 77
        },
        {
          "output_type": "display_data",
          "data": {
            "text/plain": [
              "<Figure size 432x288 with 1 Axes>"
            ],
            "image/png": "[encoded data removed]"
          },
          "metadata": {
            "needs_background": "light"
          }
        }
      ]
    },
    {
      "cell_type": "code",
      "source": [
        "importances_xgb = model_xgb.named_steps['xgbregressor'].feature_importances_\n",
        "feature_names_xgb = X_train.columns\n",
        "feat_imp_xgb = pd.Series(data=importances_xgb, index=feature_names_xgb).sort_values()\n",
        "\n",
        "feat_imp_xgb.tail(10).plot(kind='barh')\n",
        "plt.xlabel('Gini Importance')\n",
        "plt.ylabel('Feature')"
      ],
      "metadata": {
        "colab": {
          "base_uri": "https://localhost:8080/",
          "height": 296
        },
        "id": "WAcO7rZYXogE",
        "outputId": "36713a0c-0f8f-42b5-bf16-08788e5fa9d0"
      },
      "execution_count": 78,
      "outputs": [
        {
          "output_type": "execute_result",
          "data": {
            "text/plain": [
              "Text(0, 0.5, 'Feature')"
            ]
          },
          "metadata": {},
          "execution_count": 78
        },
        {
          "output_type": "display_data",
          "data": {
            "text/plain": [
              "<Figure size 432x288 with 1 Axes>"
            ],
            "image/png": "[encoded data removed]"
          },
          "metadata": {
            "needs_background": "light"
          }
        }
      ]
    },
    {
      "cell_type": "markdown",
      "source": [
        "# Check Metrics"
      ],
      "metadata": {
        "id": "9bbulRwVWthl"
      }
    },
    {
      "cell_type": "code",
      "source": [
        "print('LinearRegression Training Accuracy', model.score(X_train, y_train))\n",
        "print('LinearRegression Test Accuracy', model.score(X_test, y_test))"
      ],
      "metadata": {
        "colab": {
          "base_uri": "https://localhost:8080/"
        },
        "id": "RqQnKH45W_Z3",
        "outputId": "484b251e-5dd0-4152-8709-b7c6587c9ef0"
      },
      "execution_count": 79,
      "outputs": [
        {
          "output_type": "stream",
          "name": "stdout",
          "text": [
            "LinearRegression Training Accuracy 0.9780281308594126\n",
            "LinearRegression Test Accuracy 0.9532208435238853\n"
          ]
        }
      ]
    },
    {
      "cell_type": "code",
      "source": [
        "print('Ridge Regression Training Accuracy', model_rr.score(X_train, y_train))\n",
        "print('Ridge Regression Test Accuracy', model_rr.score(X_test, y_test))"
      ],
      "metadata": {
        "colab": {
          "base_uri": "https://localhost:8080/"
        },
        "id": "MUuFLjr9kJOP",
        "outputId": "acf86786-b416-45c2-8281-b383fe6c5847"
      },
      "execution_count": 96,
      "outputs": [
        {
          "output_type": "stream",
          "name": "stdout",
          "text": [
            "Ridge Regression Training Accuracy 0.9086965455829852\n",
            "Ridge Regression Test Accuracy 0.9612604057587606\n"
          ]
        }
      ]
    },
    {
      "cell_type": "code",
      "source": [
        "print('GradientBoostingRegressor Training Accuracy', model_gb.score(X_train, y_train))\n",
        "print('GradientBoostingRegressor Test Accuracy', model_gb.score(X_test, y_test))"
      ],
      "metadata": {
        "colab": {
          "base_uri": "https://localhost:8080/"
        },
        "id": "KTr0Q3_VWxxU",
        "outputId": "b3511df3-b2f8-426e-9cc2-33158ec14402"
      },
      "execution_count": 81,
      "outputs": [
        {
          "output_type": "stream",
          "name": "stdout",
          "text": [
            "GradientBoostingRegressor Training Accuracy 0.999725100804981\n",
            "GradientBoostingRegressor Test Accuracy 0.9165807736255649\n"
          ]
        }
      ]
    },
    {
      "cell_type": "code",
      "source": [
        "print('XGBRegressor Training Accuracy', model_xgb.score(X_train, y_train))\n",
        "print('XGBRegressor Test Accuracy', model_xgb.score(X_test, y_test))"
      ],
      "metadata": {
        "colab": {
          "base_uri": "https://localhost:8080/"
        },
        "id": "UKI5UkYzuYTC",
        "outputId": "7b4a4af4-c046-4902-afcc-e21e396b676d"
      },
      "execution_count": 82,
      "outputs": [
        {
          "output_type": "stream",
          "name": "stdout",
          "text": [
            "XGBRegressor Training Accuracy 0.9979750192926922\n",
            "XGBRegressor Test Accuracy 0.9175192648923002\n"
          ]
        }
      ]
    },
    {
      "cell_type": "markdown",
      "source": [
        "# Permutations"
      ],
      "metadata": {
        "id": "DnRZP6mQaMKO"
      }
    },
    {
      "cell_type": "code",
      "source": [
        "# Check Feature Importance Metrics LinearRegression\n",
        "feature = 'low'\n",
        "X_test_permuted = X_test.copy()\n",
        "\n",
        "X_test_permuted[feature].fillna(value = X_test_permuted[feature].median(), inplace=True)\n",
        "\n",
        "X_test_permuted[feature] = np.random.permutation(X_test[feature])\n",
        "\n",
        "print('Feature permuted: ', feature)\n",
        "print('Validation Accuracy', model.score(X_test, y_test))\n",
        "print('Validation Accuracy (permuted)', model.score(X_test_permuted, y_test))"
      ],
      "metadata": {
        "colab": {
          "base_uri": "https://localhost:8080/"
        },
        "id": "Noif8sc-pBEk",
        "outputId": "2930faa8-86c8-4ae4-87a8-3a1c6b232518"
      },
      "execution_count": 83,
      "outputs": [
        {
          "output_type": "stream",
          "name": "stdout",
          "text": [
            "Feature permuted:  low\n",
            "Validation Accuracy 0.9532208435238853\n",
            "Validation Accuracy (permuted) -0.6237125291936538\n"
          ]
        }
      ]
    },
    {
      "cell_type": "code",
      "source": [
        "# Check Feature Importance Metrics LinearRegression\n",
        "feature1 = 'high'\n",
        "X_test_permuted1 = X_test.copy()\n",
        "\n",
        "X_test_permuted1[feature].fillna(value = X_test_permuted1[feature].median(), inplace=True)\n",
        "\n",
        "X_test_permuted1[feature] = np.random.permutation(X_test[feature])\n",
        "\n",
        "print('Feature permuted: ', feature1)\n",
        "print('Validation Accuracy', model.score(X_test, y_test))\n",
        "print('Validation Accuracy (permuted)', model.score(X_test_permuted1, y_test))"
      ],
      "metadata": {
        "colab": {
          "base_uri": "https://localhost:8080/"
        },
        "id": "zsG3DVKOpZIS",
        "outputId": "96ab6899-ff60-4822-d39a-0ee0466daab5"
      },
      "execution_count": 84,
      "outputs": [
        {
          "output_type": "stream",
          "name": "stdout",
          "text": [
            "Feature permuted:  high\n",
            "Validation Accuracy 0.9532208435238853\n",
            "Validation Accuracy (permuted) -1.022333169436394\n"
          ]
        }
      ]
    },
    {
      "cell_type": "code",
      "source": [
        "# Check Feature Importance Metrics Ridge Regression\n",
        "feature = 'low'\n",
        "X_test_permuted_rr = X_test.copy()\n",
        "\n",
        "X_test_permuted_rr[feature].fillna(value = X_test_permuted_rr[feature].median(), inplace=True)\n",
        "\n",
        "X_test_permuted_rr[feature] = np.random.permutation(X_test[feature])\n",
        "\n",
        "print('Feature permuted: ', feature)\n",
        "print('Validation Accuracy', model_rr.score(X_test, y_test))\n",
        "print('Validation Accuracy (permuted)', model_rr.score(X_test_permuted_rr, y_test))"
      ],
      "metadata": {
        "colab": {
          "base_uri": "https://localhost:8080/"
        },
        "id": "0ZLPDTRGkaMg",
        "outputId": "f4b376b6-f934-4cb1-f25b-c2560dde37c1"
      },
      "execution_count": 97,
      "outputs": [
        {
          "output_type": "stream",
          "name": "stdout",
          "text": [
            "Feature permuted:  low\n",
            "Validation Accuracy 0.9612604057587606\n",
            "Validation Accuracy (permuted) 0.40087893847089495\n"
          ]
        }
      ]
    },
    {
      "cell_type": "code",
      "source": [
        "# Check Feature Importance Metrics Ridge Regression\n",
        "feature1 = 'high'\n",
        "X_test_permuted1_rr = X_test.copy()\n",
        "\n",
        "X_test_permuted1_rr[feature].fillna(value = X_test_permuted1_rr[feature].median(), inplace=True)\n",
        "\n",
        "X_test_permuted1_rr[feature] = np.random.permutation(X_test[feature])\n",
        "\n",
        "print('Feature permuted: ', feature1)\n",
        "print('Validation Accuracy', model_rr.score(X_test, y_test))\n",
        "print('Validation Accuracy (permuted)', model_rr.score(X_test_permuted1_rr, y_test))"
      ],
      "metadata": {
        "colab": {
          "base_uri": "https://localhost:8080/"
        },
        "id": "m-umAPWWknzG",
        "outputId": "2fca9ee1-5efa-445d-e541-84ad718b7317"
      },
      "execution_count": 98,
      "outputs": [
        {
          "output_type": "stream",
          "name": "stdout",
          "text": [
            "Feature permuted:  high\n",
            "Validation Accuracy 0.9612604057587606\n",
            "Validation Accuracy (permuted) 0.005855215487448162\n"
          ]
        }
      ]
    },
    {
      "cell_type": "code",
      "source": [
        "# Check Feature Importance Metrics Gradient Boosting\n",
        "feature_gb = 'low'\n",
        "X_test_permuted_gb = X_test.copy()\n",
        "\n",
        "X_test_permuted_gb[feature].fillna(value = X_test_permuted_gb[feature].median(), inplace=True)\n",
        "\n",
        "X_test_permuted_gb[feature] = np.random.permutation(X_test[feature])\n",
        "\n",
        "print('Feature permuted: ', feature)\n",
        "print('Validation Accuracy', model_gb.score(X_test, y_test))\n",
        "print('Validation Accuracy (permuted)', model_gb.score(X_test_permuted_gb, y_test))"
      ],
      "metadata": {
        "id": "Zfmx2eE7vxTU",
        "colab": {
          "base_uri": "https://localhost:8080/"
        },
        "outputId": "97c9fe7d-cfcd-4030-e141-aeacd34b011b"
      },
      "execution_count": 87,
      "outputs": [
        {
          "output_type": "stream",
          "name": "stdout",
          "text": [
            "Feature permuted:  low\n",
            "Validation Accuracy 0.9165807736255649\n",
            "Validation Accuracy (permuted) 0.48856759107152226\n"
          ]
        }
      ]
    },
    {
      "cell_type": "code",
      "source": [
        "# Check Feature Importance Metrics Gradient Boosting\n",
        "feature1 = 'high'\n",
        "X_test_permuted1_gb = X_test.copy()\n",
        "\n",
        "X_test_permuted1_gb[feature].fillna(value = X_test_permuted1_gb[feature].median(), inplace=True)\n",
        "\n",
        "X_test_permuted1_gb[feature] = np.random.permutation(X_test[feature])\n",
        "\n",
        "print('Feature permuted: ', feature1)\n",
        "print('Validation Accuracy', model_gb.score(X_test, y_test))\n",
        "print('Validation Accuracy (permuted)', model_gb.score(X_test_permuted1_gb, y_test))"
      ],
      "metadata": {
        "colab": {
          "base_uri": "https://localhost:8080/"
        },
        "id": "aScnzHJXa0IE",
        "outputId": "d269c143-8001-4d03-b8e6-3f561e13f466"
      },
      "execution_count": 88,
      "outputs": [
        {
          "output_type": "stream",
          "name": "stdout",
          "text": [
            "Feature permuted:  high\n",
            "Validation Accuracy 0.9165807736255649\n",
            "Validation Accuracy (permuted) 0.16177133798952537\n"
          ]
        }
      ]
    },
    {
      "cell_type": "code",
      "source": [
        "# Check Feature Importance Metrics Gradient Boosting\n",
        "feature1 = 'delta'\n",
        "X_test_permuted1_gb = X_test.copy()\n",
        "\n",
        "X_test_permuted1_gb[feature].fillna(value = X_test_permuted1_gb[feature].median(), inplace=True)\n",
        "\n",
        "X_test_permuted1_gb[feature] = np.random.permutation(X_test[feature])\n",
        "\n",
        "print('Feature permuted: ', feature1)\n",
        "print('Validation Accuracy', model_gb.score(X_test, y_test))\n",
        "print('Validation Accuracy (permuted)', model_gb.score(X_test_permuted1_gb, y_test))"
      ],
      "metadata": {
        "colab": {
          "base_uri": "https://localhost:8080/"
        },
        "id": "0Viy7bA5Y0-H",
        "outputId": "d770d82b-5e97-40ef-bdd6-e465bc0c7536"
      },
      "execution_count": 89,
      "outputs": [
        {
          "output_type": "stream",
          "name": "stdout",
          "text": [
            "Feature permuted:  delta\n",
            "Validation Accuracy 0.9165807736255649\n",
            "Validation Accuracy (permuted) -0.145316852214332\n"
          ]
        }
      ]
    },
    {
      "cell_type": "code",
      "source": [
        "# Check Feature Importance Metrics XGBRegressor\n",
        "feature_xgb = 'low'\n",
        "X_test_permuted_xgb = X_test.copy()\n",
        "\n",
        "X_test_permuted_xgb[feature].fillna(value = X_test_permuted_xgb[feature].median(), inplace=True)\n",
        "\n",
        "X_test_permuted_xgb[feature] = np.random.permutation(X_test[feature])\n",
        "\n",
        "print('Feature permuted: ', feature)\n",
        "print('Validation Accuracy', model_xgb.score(X_test, y_test))\n",
        "print('Validation Accuracy (permuted)', model_xgb.score(X_test_permuted_xgb, y_test))"
      ],
      "metadata": {
        "colab": {
          "base_uri": "https://localhost:8080/"
        },
        "id": "x9o_TU25bNtQ",
        "outputId": "5a1cf760-81c8-44c1-d59c-77a037625c10"
      },
      "execution_count": 90,
      "outputs": [
        {
          "output_type": "stream",
          "name": "stdout",
          "text": [
            "Feature permuted:  low\n",
            "Validation Accuracy 0.9175192648923002\n",
            "Validation Accuracy (permuted) 0.45361684988091133\n"
          ]
        }
      ]
    },
    {
      "cell_type": "code",
      "source": [
        "# Check Feature Importance Metrics XGBRegressor\n",
        "feature1 = 'high'\n",
        "X_test_permuted1_xgb = X_test.copy()\n",
        "\n",
        "X_test_permuted1_xgb[feature].fillna(value = X_test_permuted1_xgb[feature].median(), inplace=True)\n",
        "\n",
        "X_test_permuted1_xgb[feature] = np.random.permutation(X_test[feature])\n",
        "\n",
        "print('Feature permuted: ', feature1)\n",
        "print('Validation Accuracy', model_xgb.score(X_test, y_test))\n",
        "print('Validation Accuracy (permuted)', model_xgb.score(X_test_permuted1_xgb, y_test))"
      ],
      "metadata": {
        "colab": {
          "base_uri": "https://localhost:8080/"
        },
        "id": "2CH2HnnGbZZm",
        "outputId": "3f5ce9a5-f6c3-4b52-ce2b-3bbed7cf41f8"
      },
      "execution_count": 91,
      "outputs": [
        {
          "output_type": "stream",
          "name": "stdout",
          "text": [
            "Feature permuted:  high\n",
            "Validation Accuracy 0.9175192648923002\n",
            "Validation Accuracy (permuted) -0.03743676322739642\n"
          ]
        }
      ]
    },
    {
      "cell_type": "code",
      "source": [
        "# Check Feature Importance Metrics XGBRegressor\n",
        "feature1 = 'delta'\n",
        "X_test_permuted1_xgb = X_test.copy()\n",
        "\n",
        "X_test_permuted1_xgb[feature].fillna(value = X_test_permuted1_xgb[feature].median(), inplace=True)\n",
        "\n",
        "X_test_permuted1_xgb[feature] = np.random.permutation(X_test[feature])\n",
        "\n",
        "print('Feature permuted: ', feature1)\n",
        "print('Validation Accuracy', model_xgb.score(X_test, y_test))\n",
        "print('Validation Accuracy (permuted)', model_xgb.score(X_test_permuted1_xgb, y_test))"
      ],
      "metadata": {
        "colab": {
          "base_uri": "https://localhost:8080/"
        },
        "id": "jIBRjv_Ndtf-",
        "outputId": "98597a16-d144-4dd6-9b97-a7f1e3ccf153"
      },
      "execution_count": 92,
      "outputs": [
        {
          "output_type": "stream",
          "name": "stdout",
          "text": [
            "Feature permuted:  delta\n",
            "Validation Accuracy 0.9175192648923002\n",
            "Validation Accuracy (permuted) -0.3553033755165247\n"
          ]
        }
      ]
    },
    {
      "cell_type": "code",
      "source": [],
      "metadata": {
        "id": "vv46ndiFYp1n"
      },
      "execution_count": 92,
      "outputs": []
    }
  ],
  "metadata": {
    "colab": {
      "provenance": [],
      "include_colab_link": true
    },
    "kernelspec": {
      "display_name": "Python 3",
      "language": "python",
      "name": "python3"
    },
    "language_info": {
      "codemirror_mode": {
        "name": "ipython",
        "version": 3
      },
      "file_extension": ".py",
      "mimetype": "text/x-python",
      "name": "python",
      "nbconvert_exporter": "python",
      "pygments_lexer": "ipython3",
      "version": "3.7.3"
    }
  },
  "nbformat": 4,
  "nbformat_minor": 0
}