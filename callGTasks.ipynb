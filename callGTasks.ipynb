{
 "cells": [
  {
   "cell_type": "markdown",
   "id": "f6236638",
   "metadata": {},
   "source": [
    "# Displaying Tasks from Google Tasks"
   ]
  },
  {
   "cell_type": "code",
   "execution_count": 1,
   "id": "1432328a",
   "metadata": {},
   "outputs": [],
   "source": [
    "from __future__ import print_function\n",
    "\n",
    "import os.path\n",
    "\n",
    "from google.auth.transport.requests import Request\n",
    "from google.oauth2.credentials import Credentials\n",
    "from google_auth_oauthlib.flow import InstalledAppFlow\n",
    "from googleapiclient.discovery import build\n",
    "from googleapiclient.errors import HttpError\n",
    "\n",
    "from tkinter import *"
   ]
  },
  {
   "cell_type": "code",
   "execution_count": 2,
   "id": "cf96871e",
   "metadata": {},
   "outputs": [],
   "source": [
    "SCOPES = ['https://www.googleapis.com/auth/tasks.readonly']"
   ]
  },
  {
   "cell_type": "code",
   "execution_count": 5,
   "id": "a04935d0",
   "metadata": {},
   "outputs": [],
   "source": [
    "def main():\n",
    "    creds = None\n",
    "    \n",
    "    window = Tk()\n",
    "    window.title(\"G33kList Tasks\")\n",
    "    window.geometry(\"600x400\")\n",
    "    \n",
    "    scrollbar = Scrollbar(window)\n",
    "    scrollbar.pack(side=RIGHT, fill=Y\n",
    "                  )\n",
    "    text=Text(window, width=60, height=15) \n",
    "    text.pack(expand=True)\n",
    "    \n",
    "    # Verify hidden credentials folder exists; if not, create it.\n",
    "    if not os.path.exists('.credentials'):\n",
    "        os.makedirs('.credentials')\n",
    "    # The file token.json stores the user's access and refresh tokens, and is\n",
    "    # created automatically when the authorization flow completes for the first\n",
    "    # time.\n",
    "    if os.path.exists('.credentials/token.json'):\n",
    "        creds = Credentials.from_authorized_user_file('.credentials/token.json', SCOPES)\n",
    "    # If there are no (valid) credentials available, let the user log in.\n",
    "    if not creds or not creds.valid:\n",
    "        if creds and creds.expired and creds.refresh_token:\n",
    "            creds.refresh(Request())\n",
    "        else:\n",
    "            flow = InstalledAppFlow.from_client_secrets_file(\n",
    "                '.credentials/credentials.json', SCOPES)\n",
    "            creds = flow.run_local_server(port=0)\n",
    "        # Save the credentials for the next run\n",
    "        with open('.credentials/token.json', 'w') as token:\n",
    "            token.write(creds.to_json())\n",
    "\n",
    "    try:\n",
    "        service = build('tasks', 'v1', credentials=creds)\n",
    "\n",
    "        # Call the Tasks API\n",
    "        results = service.tasks().list(tasklist='MTA2ODUxMjg1MDE5MjUzNTMwNjE6MDow', showCompleted=True).execute()\n",
    "        items = results.get('items', [])\n",
    "\n",
    "        if not items:\n",
    "            #print(\"Dude, there's jack shit to do!\")\n",
    "            text.insert(END, \"Dude, there's jack shit to do!\")\n",
    "            return\n",
    "\n",
    "        #print('Get to work! You gotta do these:')\n",
    "        text.insert(END, 'Get to work! You gotta do these:\\n')\n",
    "        for item in items:\n",
    "            # print(u'- {0}'.format(item['title']))\n",
    "            text.insert(END, ' -  ' + item['title'] + '\\n') \n",
    "            \n",
    "        #text.insert(END, 'Dude, you finished doing these:\\n')\n",
    "        #for item in \n",
    "        \n",
    "    except HttpError as err:\n",
    "        print(err)\n",
    "        text.insert(END, err + '\\n')\n",
    "        \n",
    "    def close_win(e):\n",
    "        window.destroy()\n",
    "\n",
    "    window.bind('<Escape>', lambda e: close_win(e))\n",
    "\n",
    "    window.mainloop()\n",
    "\n",
    "if __name__ == '__main__':\n",
    "    main()"
   ]
  },
  {
   "cell_type": "code",
   "execution_count": null,
   "id": "5357695f",
   "metadata": {},
   "outputs": [],
   "source": []
  }
 ],
 "metadata": {
  "kernelspec": {
   "display_name": "Python 3 (ipykernel)",
   "language": "python",
   "name": "python3"
  },
  "language_info": {
   "codemirror_mode": {
    "name": "ipython",
    "version": 3
   },
   "file_extension": ".py",
   "mimetype": "text/x-python",
   "name": "python",
   "nbconvert_exporter": "python",
   "pygments_lexer": "ipython3",
   "version": "3.8.10"
  }
 },
 "nbformat": 4,
 "nbformat_minor": 5
}
