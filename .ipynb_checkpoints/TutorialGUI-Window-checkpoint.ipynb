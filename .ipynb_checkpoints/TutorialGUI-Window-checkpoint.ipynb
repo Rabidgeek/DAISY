{
 "cells": [
  {
   "cell_type": "code",
   "execution_count": 6,
   "id": "ab531591",
   "metadata": {},
   "outputs": [],
   "source": [
    "from tkinter import *\n",
    "\n",
    "window = Tk()\n",
    "\n",
    "window.title(\"DAISY and You\")\n",
    "window.geometry('350x200')\n",
    "\n",
    "text = \"whatever\"\n",
    "\n",
    "lbl = Label(window, text=text)\n",
    "lbl.grid(column=0, row=0)\n",
    "\n",
    "def close_win(e):\n",
    "    window.destroy()\n",
    "\n",
    "window.bind('<Escape>', lambda e: close_win(e))\n",
    "\n",
    "window.mainloop()"
   ]
  },
  {
   "cell_type": "code",
   "execution_count": null,
   "id": "10771a6a",
   "metadata": {},
   "outputs": [],
   "source": [
    "# Import the required library \n",
    "from tkinter import * \n",
    "# Create an instance of tkinter frame \n",
    "win=Tk() \n",
    "win.title(\"fucker\")\n",
    "# Set the geometry \n",
    "win.geometry(\"700x350\") \n",
    "# Add the list of items \n",
    "days= [\"Sun\", \"Mon\", \"Tue\",\"Wed\",\"Thu\",\"Fri\",\"Sat\"] \n",
    "text=Text(win, width=80, height=15) \n",
    "text.pack() \n",
    "# Iterate over each item in the list \n",
    "for day in days: \n",
    "    text.insert(END, day + '\\n') \n",
    "win.mainloop()"
   ]
  }
 ],
 "metadata": {
  "kernelspec": {
   "display_name": "Python 3 (ipykernel)",
   "language": "python",
   "name": "python3"
  },
  "language_info": {
   "codemirror_mode": {
    "name": "ipython",
    "version": 3
   },
   "file_extension": ".py",
   "mimetype": "text/x-python",
   "name": "python",
   "nbconvert_exporter": "python",
   "pygments_lexer": "ipython3",
   "version": "3.8.10"
  }
 },
 "nbformat": 4,
 "nbformat_minor": 5
}
