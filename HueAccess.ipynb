{
 "cells": [
  {
   "cell_type": "markdown",
   "id": "ca7b6802",
   "metadata": {},
   "source": [
    "# Accessing Hue"
   ]
  },
  {
   "cell_type": "code",
   "execution_count": null,
   "id": "d94c1032",
   "metadata": {},
   "outputs": [],
   "source": [
    "#!/usr/bin/env python3\n",
    "\n",
    "from phue import Bridge\n",
    "\n",
    "b = Bridge()"
   ]
  }
 ],
 "metadata": {
  "kernelspec": {
   "display_name": "Python 3 (ipykernel)",
   "language": "python",
   "name": "python3"
  },
  "language_info": {
   "codemirror_mode": {
    "name": "ipython",
    "version": 3
   },
   "file_extension": ".py",
   "mimetype": "text/x-python",
   "name": "python",
   "nbconvert_exporter": "python",
   "pygments_lexer": "ipython3",
   "version": "3.8.10"
  }
 },
 "nbformat": 4,
 "nbformat_minor": 5
}
